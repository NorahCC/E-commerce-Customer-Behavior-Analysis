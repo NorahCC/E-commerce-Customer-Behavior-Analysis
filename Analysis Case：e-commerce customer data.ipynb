{
 "cells": [
  {
   "cell_type": "code",
   "execution_count": 21,
   "metadata": {
    "collapsed": true
   },
   "outputs": [],
   "source": [
    "#Data Cleaning\n",
    "#************************************************************#"
   ]
  },
  {
   "cell_type": "code",
   "execution_count": 22,
   "metadata": {
    "collapsed": true
   },
   "outputs": [],
   "source": [
    "import pandas as pd\n",
    "import numpy as np\n",
    "import matplotlib.pyplot as plt\n",
    "plt.style.use('ggplot')\n",
    "sales_df=pd.read_excel('F:/From dish E/DA/python/CASE STUDY/Online Retail.xlsx',sheet_name='Online Retail')"
   ]
  },
  {
   "cell_type": "code",
   "execution_count": 23,
   "metadata": {},
   "outputs": [
    {
     "data": {
      "text/html": [
       "<div>\n",
       "<style>\n",
       "    .dataframe thead tr:only-child th {\n",
       "        text-align: right;\n",
       "    }\n",
       "\n",
       "    .dataframe thead th {\n",
       "        text-align: left;\n",
       "    }\n",
       "\n",
       "    .dataframe tbody tr th {\n",
       "        vertical-align: top;\n",
       "    }\n",
       "</style>\n",
       "<table border=\"1\" class=\"dataframe\">\n",
       "  <thead>\n",
       "    <tr style=\"text-align: right;\">\n",
       "      <th></th>\n",
       "      <th>InvoiceNo</th>\n",
       "      <th>StockCode</th>\n",
       "      <th>Description</th>\n",
       "      <th>Quantity</th>\n",
       "      <th>InvoiceDate</th>\n",
       "      <th>UnitPrice</th>\n",
       "      <th>CustomerID</th>\n",
       "      <th>Country</th>\n",
       "    </tr>\n",
       "  </thead>\n",
       "  <tbody>\n",
       "    <tr>\n",
       "      <th>0</th>\n",
       "      <td>536365</td>\n",
       "      <td>85123A</td>\n",
       "      <td>WHITE HANGING HEART T-LIGHT HOLDER</td>\n",
       "      <td>6</td>\n",
       "      <td>2010-12-01 08:26:00</td>\n",
       "      <td>2.55</td>\n",
       "      <td>17850.0</td>\n",
       "      <td>United Kingdom</td>\n",
       "    </tr>\n",
       "    <tr>\n",
       "      <th>1</th>\n",
       "      <td>536365</td>\n",
       "      <td>71053</td>\n",
       "      <td>WHITE METAL LANTERN</td>\n",
       "      <td>6</td>\n",
       "      <td>2010-12-01 08:26:00</td>\n",
       "      <td>3.39</td>\n",
       "      <td>17850.0</td>\n",
       "      <td>United Kingdom</td>\n",
       "    </tr>\n",
       "    <tr>\n",
       "      <th>2</th>\n",
       "      <td>536365</td>\n",
       "      <td>84406B</td>\n",
       "      <td>CREAM CUPID HEARTS COAT HANGER</td>\n",
       "      <td>8</td>\n",
       "      <td>2010-12-01 08:26:00</td>\n",
       "      <td>2.75</td>\n",
       "      <td>17850.0</td>\n",
       "      <td>United Kingdom</td>\n",
       "    </tr>\n",
       "    <tr>\n",
       "      <th>3</th>\n",
       "      <td>536365</td>\n",
       "      <td>84029G</td>\n",
       "      <td>KNITTED UNION FLAG HOT WATER BOTTLE</td>\n",
       "      <td>6</td>\n",
       "      <td>2010-12-01 08:26:00</td>\n",
       "      <td>3.39</td>\n",
       "      <td>17850.0</td>\n",
       "      <td>United Kingdom</td>\n",
       "    </tr>\n",
       "    <tr>\n",
       "      <th>4</th>\n",
       "      <td>536365</td>\n",
       "      <td>84029E</td>\n",
       "      <td>RED WOOLLY HOTTIE WHITE HEART.</td>\n",
       "      <td>6</td>\n",
       "      <td>2010-12-01 08:26:00</td>\n",
       "      <td>3.39</td>\n",
       "      <td>17850.0</td>\n",
       "      <td>United Kingdom</td>\n",
       "    </tr>\n",
       "  </tbody>\n",
       "</table>\n",
       "</div>"
      ],
      "text/plain": [
       "  InvoiceNo StockCode                          Description  Quantity  \\\n",
       "0    536365    85123A   WHITE HANGING HEART T-LIGHT HOLDER         6   \n",
       "1    536365     71053                  WHITE METAL LANTERN         6   \n",
       "2    536365    84406B       CREAM CUPID HEARTS COAT HANGER         8   \n",
       "3    536365    84029G  KNITTED UNION FLAG HOT WATER BOTTLE         6   \n",
       "4    536365    84029E       RED WOOLLY HOTTIE WHITE HEART.         6   \n",
       "\n",
       "          InvoiceDate  UnitPrice  CustomerID         Country  \n",
       "0 2010-12-01 08:26:00       2.55     17850.0  United Kingdom  \n",
       "1 2010-12-01 08:26:00       3.39     17850.0  United Kingdom  \n",
       "2 2010-12-01 08:26:00       2.75     17850.0  United Kingdom  \n",
       "3 2010-12-01 08:26:00       3.39     17850.0  United Kingdom  \n",
       "4 2010-12-01 08:26:00       3.39     17850.0  United Kingdom  "
      ]
     },
     "execution_count": 23,
     "metadata": {},
     "output_type": "execute_result"
    }
   ],
   "source": [
    "sales_df.head()"
   ]
  },
  {
   "cell_type": "code",
   "execution_count": 24,
   "metadata": {},
   "outputs": [
    {
     "data": {
      "text/plain": [
       "InvoiceNo              object\n",
       "StockCode              object\n",
       "Description            object\n",
       "Quantity                int64\n",
       "InvoiceDate    datetime64[ns]\n",
       "UnitPrice             float64\n",
       "CustomerID            float64\n",
       "Country                object\n",
       "dtype: object"
      ]
     },
     "execution_count": 24,
     "metadata": {},
     "output_type": "execute_result"
    }
   ],
   "source": [
    "sales_df.dtypes"
   ]
  },
  {
   "cell_type": "code",
   "execution_count": 25,
   "metadata": {
    "collapsed": true
   },
   "outputs": [],
   "source": [
    "# rename the column\n",
    "sales_df.rename(columns={'InvoiceDate': 'InvoiceTime'}, inplace= True)"
   ]
  },
  {
   "cell_type": "code",
   "execution_count": 26,
   "metadata": {},
   "outputs": [
    {
     "name": "stdout",
     "output_type": "stream",
     "text": [
      "541909 536641\n"
     ]
    }
   ],
   "source": [
    "#delete the duplicated number\n",
    "#If the value of all fields in two records are same,we define it as a duplicated value and only keep one of them.\n",
    "rows_before = sales_df.shape[0]\n",
    "sales_df.drop_duplicates(inplace= True)\n",
    "rows_after = sales_df.shape[0]\n",
    "print(rows_before,rows_after)"
   ]
  },
  {
   "cell_type": "code",
   "execution_count": 27,
   "metadata": {},
   "outputs": [
    {
     "data": {
      "text/plain": [
       "InvoiceNo           0\n",
       "StockCode           0\n",
       "Description      1454\n",
       "Quantity            0\n",
       "InvoiceTime         0\n",
       "UnitPrice           0\n",
       "CustomerID     135037\n",
       "Country             0\n",
       "dtype: int64"
      ]
     },
     "execution_count": 27,
     "metadata": {},
     "output_type": "execute_result"
    }
   ],
   "source": [
    "#reset the index\n",
    "sales_df.reset_index(drop=True,inplace=True)\n",
    "# view the null value\n",
    "# The column 'Desctiptive' stores decription of products,we don't need to process them\n",
    "sales_df.isnull().sum()"
   ]
  },
  {
   "cell_type": "code",
   "execution_count": 28,
   "metadata": {},
   "outputs": [
    {
     "data": {
      "text/html": [
       "<div>\n",
       "<style>\n",
       "    .dataframe thead tr:only-child th {\n",
       "        text-align: right;\n",
       "    }\n",
       "\n",
       "    .dataframe thead th {\n",
       "        text-align: left;\n",
       "    }\n",
       "\n",
       "    .dataframe tbody tr th {\n",
       "        vertical-align: top;\n",
       "    }\n",
       "</style>\n",
       "<table border=\"1\" class=\"dataframe\">\n",
       "  <thead>\n",
       "    <tr style=\"text-align: right;\">\n",
       "      <th></th>\n",
       "      <th>InvoiceNo</th>\n",
       "      <th>StockCode</th>\n",
       "      <th>Description</th>\n",
       "      <th>Quantity</th>\n",
       "      <th>InvoiceTime</th>\n",
       "      <th>UnitPrice</th>\n",
       "      <th>CustomerID</th>\n",
       "      <th>Country</th>\n",
       "    </tr>\n",
       "  </thead>\n",
       "  <tbody>\n",
       "    <tr>\n",
       "      <th>605</th>\n",
       "      <td>536414</td>\n",
       "      <td>22139</td>\n",
       "      <td>NaN</td>\n",
       "      <td>56</td>\n",
       "      <td>2010-12-01 11:52:00</td>\n",
       "      <td>0.00</td>\n",
       "      <td>NaN</td>\n",
       "      <td>United Kingdom</td>\n",
       "    </tr>\n",
       "    <tr>\n",
       "      <th>605</th>\n",
       "      <td>536414</td>\n",
       "      <td>22139</td>\n",
       "      <td>NaN</td>\n",
       "      <td>56</td>\n",
       "      <td>2010-12-01 11:52:00</td>\n",
       "      <td>0.00</td>\n",
       "      <td>NaN</td>\n",
       "      <td>United Kingdom</td>\n",
       "    </tr>\n",
       "    <tr>\n",
       "      <th>1407</th>\n",
       "      <td>536544</td>\n",
       "      <td>21773</td>\n",
       "      <td>DECORATIVE ROSE BATHROOM BOTTLE</td>\n",
       "      <td>1</td>\n",
       "      <td>2010-12-01 14:32:00</td>\n",
       "      <td>2.51</td>\n",
       "      <td>NaN</td>\n",
       "      <td>United Kingdom</td>\n",
       "    </tr>\n",
       "    <tr>\n",
       "      <th>1408</th>\n",
       "      <td>536544</td>\n",
       "      <td>21774</td>\n",
       "      <td>DECORATIVE CATS BATHROOM BOTTLE</td>\n",
       "      <td>2</td>\n",
       "      <td>2010-12-01 14:32:00</td>\n",
       "      <td>2.51</td>\n",
       "      <td>NaN</td>\n",
       "      <td>United Kingdom</td>\n",
       "    </tr>\n",
       "    <tr>\n",
       "      <th>1409</th>\n",
       "      <td>536544</td>\n",
       "      <td>21786</td>\n",
       "      <td>POLKADOT RAIN HAT</td>\n",
       "      <td>4</td>\n",
       "      <td>2010-12-01 14:32:00</td>\n",
       "      <td>0.85</td>\n",
       "      <td>NaN</td>\n",
       "      <td>United Kingdom</td>\n",
       "    </tr>\n",
       "  </tbody>\n",
       "</table>\n",
       "</div>"
      ],
      "text/plain": [
       "     InvoiceNo StockCode                      Description  Quantity  \\\n",
       "605     536414     22139                              NaN        56   \n",
       "605     536414     22139                              NaN        56   \n",
       "1407    536544     21773  DECORATIVE ROSE BATHROOM BOTTLE         1   \n",
       "1408    536544     21774  DECORATIVE CATS BATHROOM BOTTLE         2   \n",
       "1409    536544     21786               POLKADOT RAIN HAT          4   \n",
       "\n",
       "             InvoiceTime  UnitPrice  CustomerID         Country  \n",
       "605  2010-12-01 11:52:00       0.00         NaN  United Kingdom  \n",
       "605  2010-12-01 11:52:00       0.00         NaN  United Kingdom  \n",
       "1407 2010-12-01 14:32:00       2.51         NaN  United Kingdom  \n",
       "1408 2010-12-01 14:32:00       2.51         NaN  United Kingdom  \n",
       "1409 2010-12-01 14:32:00       0.85         NaN  United Kingdom  "
      ]
     },
     "execution_count": 28,
     "metadata": {},
     "output_type": "execute_result"
    }
   ],
   "source": [
    "sales_df[sales_df.isnull().values==True].head()"
   ]
  },
  {
   "cell_type": "code",
   "execution_count": 29,
   "metadata": {},
   "outputs": [
    {
     "data": {
      "text/html": [
       "<div>\n",
       "<style>\n",
       "    .dataframe thead tr:only-child th {\n",
       "        text-align: right;\n",
       "    }\n",
       "\n",
       "    .dataframe thead th {\n",
       "        text-align: left;\n",
       "    }\n",
       "\n",
       "    .dataframe tbody tr th {\n",
       "        vertical-align: top;\n",
       "    }\n",
       "</style>\n",
       "<table border=\"1\" class=\"dataframe\">\n",
       "  <thead>\n",
       "    <tr style=\"text-align: right;\">\n",
       "      <th></th>\n",
       "      <th>InvoiceNo</th>\n",
       "      <th>StockCode</th>\n",
       "      <th>Description</th>\n",
       "      <th>Quantity</th>\n",
       "      <th>InvoiceTime</th>\n",
       "      <th>UnitPrice</th>\n",
       "      <th>CustomerID</th>\n",
       "      <th>Country</th>\n",
       "    </tr>\n",
       "  </thead>\n",
       "  <tbody>\n",
       "  </tbody>\n",
       "</table>\n",
       "</div>"
      ],
      "text/plain": [
       "Empty DataFrame\n",
       "Columns: [InvoiceNo, StockCode, Description, Quantity, InvoiceTime, UnitPrice, CustomerID, Country]\n",
       "Index: []"
      ]
     },
     "execution_count": 29,
     "metadata": {},
     "output_type": "execute_result"
    }
   ],
   "source": [
    "#check whether there is customer with ID '0'\n",
    "#Since there is no customer whose 'CustomerID' is 0, we use 0 to fill all null values in the 'CustomerId' column.\n",
    "sales_df[sales_df['CustomerID']==0]"
   ]
  },
  {
   "cell_type": "code",
   "execution_count": 30,
   "metadata": {},
   "outputs": [
    {
     "data": {
      "text/plain": [
       "135037"
      ]
     },
     "execution_count": 30,
     "metadata": {},
     "output_type": "execute_result"
    }
   ],
   "source": [
    "sales_df['CustomerID'].fillna(0, inplace=True)\n",
    "sales_df['Description'].fillna(0, inplace=True)\n",
    "(sales_df['CustomerID']==0).sum()"
   ]
  },
  {
   "cell_type": "code",
   "execution_count": 31,
   "metadata": {
    "collapsed": true
   },
   "outputs": [],
   "source": [
    "#unification process of time\n",
    "sales_df['InvoiceTime']=pd.to_datetime(sales_df['InvoiceTime'],errors='coerce')\n",
    "sales_df['Date']=pd.to_datetime(sales_df['InvoiceTime'].dt.date,errors='coerce') #invalid parsing---set as NaN\n",
    "sales_df['Month']=sales_df['Date'].dt.month"
   ]
  },
  {
   "cell_type": "code",
   "execution_count": 32,
   "metadata": {
    "collapsed": true
   },
   "outputs": [],
   "source": [
    "# variable type transformation\n",
    "sales_df['Quantity']=sales_df['Quantity'].astype('int32')\n",
    "sales_df['UnitPrice']=sales_df['UnitPrice'].astype('float')\n",
    "sales_df['CustomerID']=sales_df['CustomerID'].astype('int32')"
   ]
  },
  {
   "cell_type": "code",
   "execution_count": 33,
   "metadata": {
    "collapsed": true
   },
   "outputs": [],
   "source": [
    "#calculate the sum price for each record, add a new column\n",
    "sales_df['SumPrice']=sales_df['Quantity']*sales_df['UnitPrice']"
   ]
  },
  {
   "cell_type": "code",
   "execution_count": 34,
   "metadata": {
    "scrolled": false
   },
   "outputs": [
    {
     "data": {
      "text/html": [
       "<div>\n",
       "<style>\n",
       "    .dataframe thead tr:only-child th {\n",
       "        text-align: right;\n",
       "    }\n",
       "\n",
       "    .dataframe thead th {\n",
       "        text-align: left;\n",
       "    }\n",
       "\n",
       "    .dataframe tbody tr th {\n",
       "        vertical-align: top;\n",
       "    }\n",
       "</style>\n",
       "<table border=\"1\" class=\"dataframe\">\n",
       "  <thead>\n",
       "    <tr style=\"text-align: right;\">\n",
       "      <th></th>\n",
       "      <th>Quantity</th>\n",
       "      <th>UnitPrice</th>\n",
       "      <th>CustomerID</th>\n",
       "      <th>Month</th>\n",
       "      <th>SumPrice</th>\n",
       "    </tr>\n",
       "  </thead>\n",
       "  <tbody>\n",
       "    <tr>\n",
       "      <th>count</th>\n",
       "      <td>536641.000000</td>\n",
       "      <td>536641.000000</td>\n",
       "      <td>536641.000000</td>\n",
       "      <td>536641.000000</td>\n",
       "      <td>536641.000000</td>\n",
       "    </tr>\n",
       "    <tr>\n",
       "      <th>mean</th>\n",
       "      <td>9.620029</td>\n",
       "      <td>4.632656</td>\n",
       "      <td>11435.904653</td>\n",
       "      <td>7.544820</td>\n",
       "      <td>18.123861</td>\n",
       "    </tr>\n",
       "    <tr>\n",
       "      <th>std</th>\n",
       "      <td>219.130156</td>\n",
       "      <td>97.233118</td>\n",
       "      <td>6795.044250</td>\n",
       "      <td>3.508696</td>\n",
       "      <td>380.656263</td>\n",
       "    </tr>\n",
       "    <tr>\n",
       "      <th>min</th>\n",
       "      <td>-80995.000000</td>\n",
       "      <td>-11062.060000</td>\n",
       "      <td>0.000000</td>\n",
       "      <td>1.000000</td>\n",
       "      <td>-168469.600000</td>\n",
       "    </tr>\n",
       "    <tr>\n",
       "      <th>25%</th>\n",
       "      <td>1.000000</td>\n",
       "      <td>1.250000</td>\n",
       "      <td>0.000000</td>\n",
       "      <td>5.000000</td>\n",
       "      <td>3.750000</td>\n",
       "    </tr>\n",
       "    <tr>\n",
       "      <th>50%</th>\n",
       "      <td>3.000000</td>\n",
       "      <td>2.080000</td>\n",
       "      <td>14336.000000</td>\n",
       "      <td>8.000000</td>\n",
       "      <td>9.870000</td>\n",
       "    </tr>\n",
       "    <tr>\n",
       "      <th>75%</th>\n",
       "      <td>10.000000</td>\n",
       "      <td>4.130000</td>\n",
       "      <td>16241.000000</td>\n",
       "      <td>11.000000</td>\n",
       "      <td>17.400000</td>\n",
       "    </tr>\n",
       "    <tr>\n",
       "      <th>max</th>\n",
       "      <td>80995.000000</td>\n",
       "      <td>38970.000000</td>\n",
       "      <td>18287.000000</td>\n",
       "      <td>12.000000</td>\n",
       "      <td>168469.600000</td>\n",
       "    </tr>\n",
       "  </tbody>\n",
       "</table>\n",
       "</div>"
      ],
      "text/plain": [
       "            Quantity      UnitPrice     CustomerID          Month  \\\n",
       "count  536641.000000  536641.000000  536641.000000  536641.000000   \n",
       "mean        9.620029       4.632656   11435.904653       7.544820   \n",
       "std       219.130156      97.233118    6795.044250       3.508696   \n",
       "min    -80995.000000  -11062.060000       0.000000       1.000000   \n",
       "25%         1.000000       1.250000       0.000000       5.000000   \n",
       "50%         3.000000       2.080000   14336.000000       8.000000   \n",
       "75%        10.000000       4.130000   16241.000000      11.000000   \n",
       "max     80995.000000   38970.000000   18287.000000      12.000000   \n",
       "\n",
       "            SumPrice  \n",
       "count  536641.000000  \n",
       "mean       18.123861  \n",
       "std       380.656263  \n",
       "min   -168469.600000  \n",
       "25%         3.750000  \n",
       "50%         9.870000  \n",
       "75%        17.400000  \n",
       "max    168469.600000  "
      ]
     },
     "execution_count": 34,
     "metadata": {},
     "output_type": "execute_result"
    }
   ],
   "source": [
    "# outlier processing\n",
    "sales_df.describe()"
   ]
  },
  {
   "cell_type": "code",
   "execution_count": 35,
   "metadata": {
    "collapsed": true
   },
   "outputs": [],
   "source": [
    "query_a=sales_df['InvoiceNo'].str.contains('A')==True\n",
    "sales_df.loc[query_a,:]\n",
    "sales_df.drop(sales_df['InvoiceNo'].str.contains('A')==True,inplace=True)"
   ]
  },
  {
   "cell_type": "code",
   "execution_count": 36,
   "metadata": {
    "collapsed": true
   },
   "outputs": [],
   "source": [
    "#Negative values occur in column 'Quantity''UnitPrice''SumPrice'\n",
    "#The causes of this situation is some of these orders have been cancelled or set as 0 (may because of promotions)\n",
    "#Orders start with C : cancelled order\n",
    "#Orders with total price 0: free order \n",
    "#Orders start with A: from the description we find these order are used to adjust bad debt, filter them."
   ]
  },
  {
   "cell_type": "code",
   "execution_count": 37,
   "metadata": {
    "scrolled": true
   },
   "outputs": [
    {
     "data": {
      "text/html": [
       "<div>\n",
       "<style>\n",
       "    .dataframe thead tr:only-child th {\n",
       "        text-align: right;\n",
       "    }\n",
       "\n",
       "    .dataframe thead th {\n",
       "        text-align: left;\n",
       "    }\n",
       "\n",
       "    .dataframe tbody tr th {\n",
       "        vertical-align: top;\n",
       "    }\n",
       "</style>\n",
       "<table border=\"1\" class=\"dataframe\">\n",
       "  <thead>\n",
       "    <tr style=\"text-align: right;\">\n",
       "      <th></th>\n",
       "      <th>InvoiceNo</th>\n",
       "      <th>StockCode</th>\n",
       "      <th>Description</th>\n",
       "      <th>Quantity</th>\n",
       "      <th>InvoiceTime</th>\n",
       "      <th>UnitPrice</th>\n",
       "      <th>CustomerID</th>\n",
       "      <th>Country</th>\n",
       "      <th>Date</th>\n",
       "      <th>Month</th>\n",
       "      <th>SumPrice</th>\n",
       "    </tr>\n",
       "  </thead>\n",
       "  <tbody>\n",
       "    <tr>\n",
       "      <th>141</th>\n",
       "      <td>C536379</td>\n",
       "      <td>D</td>\n",
       "      <td>Discount</td>\n",
       "      <td>-1</td>\n",
       "      <td>2010-12-01 09:41:00</td>\n",
       "      <td>27.50</td>\n",
       "      <td>14527</td>\n",
       "      <td>United Kingdom</td>\n",
       "      <td>2010-12-01</td>\n",
       "      <td>12</td>\n",
       "      <td>-27.50</td>\n",
       "    </tr>\n",
       "    <tr>\n",
       "      <th>154</th>\n",
       "      <td>C536383</td>\n",
       "      <td>35004C</td>\n",
       "      <td>SET OF 3 COLOURED  FLYING DUCKS</td>\n",
       "      <td>-1</td>\n",
       "      <td>2010-12-01 09:49:00</td>\n",
       "      <td>4.65</td>\n",
       "      <td>15311</td>\n",
       "      <td>United Kingdom</td>\n",
       "      <td>2010-12-01</td>\n",
       "      <td>12</td>\n",
       "      <td>-4.65</td>\n",
       "    </tr>\n",
       "    <tr>\n",
       "      <th>235</th>\n",
       "      <td>C536391</td>\n",
       "      <td>22556</td>\n",
       "      <td>PLASTERS IN TIN CIRCUS PARADE</td>\n",
       "      <td>-12</td>\n",
       "      <td>2010-12-01 10:24:00</td>\n",
       "      <td>1.65</td>\n",
       "      <td>17548</td>\n",
       "      <td>United Kingdom</td>\n",
       "      <td>2010-12-01</td>\n",
       "      <td>12</td>\n",
       "      <td>-19.80</td>\n",
       "    </tr>\n",
       "    <tr>\n",
       "      <th>236</th>\n",
       "      <td>C536391</td>\n",
       "      <td>21984</td>\n",
       "      <td>PACK OF 12 PINK PAISLEY TISSUES</td>\n",
       "      <td>-24</td>\n",
       "      <td>2010-12-01 10:24:00</td>\n",
       "      <td>0.29</td>\n",
       "      <td>17548</td>\n",
       "      <td>United Kingdom</td>\n",
       "      <td>2010-12-01</td>\n",
       "      <td>12</td>\n",
       "      <td>-6.96</td>\n",
       "    </tr>\n",
       "    <tr>\n",
       "      <th>237</th>\n",
       "      <td>C536391</td>\n",
       "      <td>21983</td>\n",
       "      <td>PACK OF 12 BLUE PAISLEY TISSUES</td>\n",
       "      <td>-24</td>\n",
       "      <td>2010-12-01 10:24:00</td>\n",
       "      <td>0.29</td>\n",
       "      <td>17548</td>\n",
       "      <td>United Kingdom</td>\n",
       "      <td>2010-12-01</td>\n",
       "      <td>12</td>\n",
       "      <td>-6.96</td>\n",
       "    </tr>\n",
       "  </tbody>\n",
       "</table>\n",
       "</div>"
      ],
      "text/plain": [
       "    InvoiceNo StockCode                       Description  Quantity  \\\n",
       "141   C536379         D                          Discount        -1   \n",
       "154   C536383    35004C   SET OF 3 COLOURED  FLYING DUCKS        -1   \n",
       "235   C536391     22556    PLASTERS IN TIN CIRCUS PARADE        -12   \n",
       "236   C536391     21984  PACK OF 12 PINK PAISLEY TISSUES        -24   \n",
       "237   C536391     21983  PACK OF 12 BLUE PAISLEY TISSUES        -24   \n",
       "\n",
       "            InvoiceTime  UnitPrice  CustomerID         Country       Date  \\\n",
       "141 2010-12-01 09:41:00      27.50       14527  United Kingdom 2010-12-01   \n",
       "154 2010-12-01 09:49:00       4.65       15311  United Kingdom 2010-12-01   \n",
       "235 2010-12-01 10:24:00       1.65       17548  United Kingdom 2010-12-01   \n",
       "236 2010-12-01 10:24:00       0.29       17548  United Kingdom 2010-12-01   \n",
       "237 2010-12-01 10:24:00       0.29       17548  United Kingdom 2010-12-01   \n",
       "\n",
       "     Month  SumPrice  \n",
       "141     12    -27.50  \n",
       "154     12     -4.65  \n",
       "235     12    -19.80  \n",
       "236     12     -6.96  \n",
       "237     12     -6.96  "
      ]
     },
     "execution_count": 37,
     "metadata": {},
     "output_type": "execute_result"
    }
   ],
   "source": [
    "sales_df[(sales_df['Quantity']<=0|(sales_df['UnitPrice']<0))].head()"
   ]
  },
  {
   "cell_type": "code",
   "execution_count": 38,
   "metadata": {
    "collapsed": true
   },
   "outputs": [],
   "source": [
    "#recoginze orders that have been cancelled\n",
    "query_c = sales_df['InvoiceNo'].str.contains('C')==True\n",
    "sales_cancel = sales_df.loc[query_c,:].copy()\n",
    "sales_success = sales_df.loc[-query_c,:].copy()"
   ]
  },
  {
   "cell_type": "code",
   "execution_count": 39,
   "metadata": {},
   "outputs": [
    {
     "data": {
      "text/html": [
       "<div>\n",
       "<style>\n",
       "    .dataframe thead tr:only-child th {\n",
       "        text-align: right;\n",
       "    }\n",
       "\n",
       "    .dataframe thead th {\n",
       "        text-align: left;\n",
       "    }\n",
       "\n",
       "    .dataframe tbody tr th {\n",
       "        vertical-align: top;\n",
       "    }\n",
       "</style>\n",
       "<table border=\"1\" class=\"dataframe\">\n",
       "  <thead>\n",
       "    <tr style=\"text-align: right;\">\n",
       "      <th></th>\n",
       "      <th>InvoiceNo_x</th>\n",
       "      <th>StockCode_x</th>\n",
       "      <th>Description_x</th>\n",
       "      <th>Quantity_x</th>\n",
       "      <th>InvoiceTime_x</th>\n",
       "      <th>UnitPrice_x</th>\n",
       "      <th>CustomerID_x</th>\n",
       "      <th>Country_x</th>\n",
       "      <th>Date_x</th>\n",
       "      <th>Month_x</th>\n",
       "      <th>...</th>\n",
       "      <th>StockCode_y</th>\n",
       "      <th>Description_y</th>\n",
       "      <th>Quantity_y</th>\n",
       "      <th>InvoiceTime_y</th>\n",
       "      <th>UnitPrice_y</th>\n",
       "      <th>CustomerID_y</th>\n",
       "      <th>Country_y</th>\n",
       "      <th>Date_y</th>\n",
       "      <th>Month_y</th>\n",
       "      <th>SumPrice_y</th>\n",
       "    </tr>\n",
       "  </thead>\n",
       "  <tbody>\n",
       "  </tbody>\n",
       "</table>\n",
       "<p>0 rows × 23 columns</p>\n",
       "</div>"
      ],
      "text/plain": [
       "Empty DataFrame\n",
       "Columns: [InvoiceNo_x, StockCode_x, Description_x, Quantity_x, InvoiceTime_x, UnitPrice_x, CustomerID_x, Country_x, Date_x, Month_x, SumPrice_x, SrcInvoiceNo, InvoiceNo_y, StockCode_y, Description_y, Quantity_y, InvoiceTime_y, UnitPrice_y, CustomerID_y, Country_y, Date_y, Month_y, SumPrice_y]\n",
       "Index: []\n",
       "\n",
       "[0 rows x 23 columns]"
      ]
     },
     "execution_count": 39,
     "metadata": {},
     "output_type": "execute_result"
    }
   ],
   "source": [
    "#find whether cancelled orders and successful orders have intersections\n",
    "sales_cancel['SrcInvoiceNo']=sales_cancel['InvoiceNo'].str.split('C',expand=True)[1]\n",
    "pd.merge(sales_cancel,sales_success,left_on='SrcInvoiceNo',right_on='InvoiceNo')"
   ]
  },
  {
   "cell_type": "code",
   "execution_count": 40,
   "metadata": {},
   "outputs": [
    {
     "name": "stdout",
     "output_type": "stream",
     "text": [
      "orders that has been cancelled: (9251, 12) other orders: (527388, 11)\n"
     ]
    }
   ],
   "source": [
    "print('orders that have been cancelled:',sales_cancel.shape,'other orders:',sales_success.shape)\n",
    "sales_success.describe()\n",
    "sales_success=sales_success[-(sales_success['Quantity']<=0|(sales_success['UnitPrice']<0))]\n",
    "sales_success.describe()\n",
    "query_free=sales_success['UnitPrice'] == 0\n",
    "sales_success=sales_success.loc[-query_free,:]\n",
    "#drop the cancelled&free orders and orders which quantity or unitprice is minus zero"
   ]
  },
  {
   "cell_type": "code",
   "execution_count": 41,
   "metadata": {},
   "outputs": [
    {
     "data": {
      "text/html": [
       "<div>\n",
       "<style>\n",
       "    .dataframe thead tr:only-child th {\n",
       "        text-align: right;\n",
       "    }\n",
       "\n",
       "    .dataframe thead th {\n",
       "        text-align: left;\n",
       "    }\n",
       "\n",
       "    .dataframe tbody tr th {\n",
       "        vertical-align: top;\n",
       "    }\n",
       "</style>\n",
       "<table border=\"1\" class=\"dataframe\">\n",
       "  <thead>\n",
       "    <tr style=\"text-align: right;\">\n",
       "      <th></th>\n",
       "      <th>Quantity</th>\n",
       "      <th>UnitPrice</th>\n",
       "      <th>CustomerID</th>\n",
       "      <th>Month</th>\n",
       "      <th>SumPrice</th>\n",
       "    </tr>\n",
       "  </thead>\n",
       "  <tbody>\n",
       "    <tr>\n",
       "      <th>count</th>\n",
       "      <td>524876.000000</td>\n",
       "      <td>524876.000000</td>\n",
       "      <td>524876.000000</td>\n",
       "      <td>524876.00000</td>\n",
       "      <td>524876.000000</td>\n",
       "    </tr>\n",
       "    <tr>\n",
       "      <th>mean</th>\n",
       "      <td>10.616618</td>\n",
       "      <td>3.922576</td>\n",
       "      <td>11437.707731</td>\n",
       "      <td>7.55222</td>\n",
       "      <td>20.275408</td>\n",
       "    </tr>\n",
       "    <tr>\n",
       "      <th>std</th>\n",
       "      <td>156.280328</td>\n",
       "      <td>36.093096</td>\n",
       "      <td>6799.515061</td>\n",
       "      <td>3.50816</td>\n",
       "      <td>271.694084</td>\n",
       "    </tr>\n",
       "    <tr>\n",
       "      <th>min</th>\n",
       "      <td>1.000000</td>\n",
       "      <td>0.001000</td>\n",
       "      <td>0.000000</td>\n",
       "      <td>1.00000</td>\n",
       "      <td>0.001000</td>\n",
       "    </tr>\n",
       "    <tr>\n",
       "      <th>25%</th>\n",
       "      <td>1.000000</td>\n",
       "      <td>1.250000</td>\n",
       "      <td>0.000000</td>\n",
       "      <td>5.00000</td>\n",
       "      <td>3.900000</td>\n",
       "    </tr>\n",
       "    <tr>\n",
       "      <th>50%</th>\n",
       "      <td>4.000000</td>\n",
       "      <td>2.080000</td>\n",
       "      <td>14350.000000</td>\n",
       "      <td>8.00000</td>\n",
       "      <td>9.920000</td>\n",
       "    </tr>\n",
       "    <tr>\n",
       "      <th>75%</th>\n",
       "      <td>11.000000</td>\n",
       "      <td>4.130000</td>\n",
       "      <td>16245.000000</td>\n",
       "      <td>11.00000</td>\n",
       "      <td>17.700000</td>\n",
       "    </tr>\n",
       "    <tr>\n",
       "      <th>max</th>\n",
       "      <td>80995.000000</td>\n",
       "      <td>13541.330000</td>\n",
       "      <td>18287.000000</td>\n",
       "      <td>12.00000</td>\n",
       "      <td>168469.600000</td>\n",
       "    </tr>\n",
       "  </tbody>\n",
       "</table>\n",
       "</div>"
      ],
      "text/plain": [
       "            Quantity      UnitPrice     CustomerID         Month  \\\n",
       "count  524876.000000  524876.000000  524876.000000  524876.00000   \n",
       "mean       10.616618       3.922576   11437.707731       7.55222   \n",
       "std       156.280328      36.093096    6799.515061       3.50816   \n",
       "min         1.000000       0.001000       0.000000       1.00000   \n",
       "25%         1.000000       1.250000       0.000000       5.00000   \n",
       "50%         4.000000       2.080000   14350.000000       8.00000   \n",
       "75%        11.000000       4.130000   16245.000000      11.00000   \n",
       "max     80995.000000   13541.330000   18287.000000      12.00000   \n",
       "\n",
       "            SumPrice  \n",
       "count  524876.000000  \n",
       "mean       20.275408  \n",
       "std       271.694084  \n",
       "min         0.001000  \n",
       "25%         3.900000  \n",
       "50%         9.920000  \n",
       "75%        17.700000  \n",
       "max    168469.600000  "
      ]
     },
     "execution_count": 41,
     "metadata": {},
     "output_type": "execute_result"
    }
   ],
   "source": [
    "sales_success.describe() #data cleaning part is end here"
   ]
  },
  {
   "cell_type": "code",
   "execution_count": 42,
   "metadata": {
    "collapsed": true
   },
   "outputs": [],
   "source": [
    "#Descriptive statistics analysis\n",
    "#************************************************************#"
   ]
  },
  {
   "cell_type": "code",
   "execution_count": 43,
   "metadata": {},
   "outputs": [
    {
     "data": {
      "text/html": [
       "<div>\n",
       "<style>\n",
       "    .dataframe thead tr:only-child th {\n",
       "        text-align: right;\n",
       "    }\n",
       "\n",
       "    .dataframe thead th {\n",
       "        text-align: left;\n",
       "    }\n",
       "\n",
       "    .dataframe tbody tr th {\n",
       "        vertical-align: top;\n",
       "    }\n",
       "</style>\n",
       "<table border=\"1\" class=\"dataframe\">\n",
       "  <thead>\n",
       "    <tr style=\"text-align: right;\">\n",
       "      <th></th>\n",
       "      <th>Quantity</th>\n",
       "      <th>SumPrice</th>\n",
       "    </tr>\n",
       "  </thead>\n",
       "  <tbody>\n",
       "    <tr>\n",
       "      <th>count</th>\n",
       "      <td>19960.000000</td>\n",
       "      <td>19960.000000</td>\n",
       "    </tr>\n",
       "    <tr>\n",
       "      <th>mean</th>\n",
       "      <td>279.178758</td>\n",
       "      <td>533.170098</td>\n",
       "    </tr>\n",
       "    <tr>\n",
       "      <th>std</th>\n",
       "      <td>955.011964</td>\n",
       "      <td>1780.412701</td>\n",
       "    </tr>\n",
       "    <tr>\n",
       "      <th>min</th>\n",
       "      <td>1.000000</td>\n",
       "      <td>0.380000</td>\n",
       "    </tr>\n",
       "    <tr>\n",
       "      <th>25%</th>\n",
       "      <td>69.000000</td>\n",
       "      <td>151.695000</td>\n",
       "    </tr>\n",
       "    <tr>\n",
       "      <th>50%</th>\n",
       "      <td>150.000000</td>\n",
       "      <td>303.300000</td>\n",
       "    </tr>\n",
       "    <tr>\n",
       "      <th>75%</th>\n",
       "      <td>296.000000</td>\n",
       "      <td>493.462500</td>\n",
       "    </tr>\n",
       "    <tr>\n",
       "      <th>max</th>\n",
       "      <td>80995.000000</td>\n",
       "      <td>168469.600000</td>\n",
       "    </tr>\n",
       "  </tbody>\n",
       "</table>\n",
       "</div>"
      ],
      "text/plain": [
       "           Quantity       SumPrice\n",
       "count  19960.000000   19960.000000\n",
       "mean     279.178758     533.170098\n",
       "std      955.011964    1780.412701\n",
       "min        1.000000       0.380000\n",
       "25%       69.000000     151.695000\n",
       "50%      150.000000     303.300000\n",
       "75%      296.000000     493.462500\n",
       "max    80995.000000  168469.600000"
      ]
     },
     "execution_count": 43,
     "metadata": {},
     "output_type": "execute_result"
    }
   ],
   "source": [
    "#1.From the perspective of orders:\n",
    "\n",
    "#Group all data by 'InvoiceNo' and calculate the sum of Quantity and SumPrice\n",
    "invoice_grouped=sales_success.groupby('InvoiceNo')[['Quantity','SumPrice']].sum()\n",
    "invoice_grouped.head()\n",
    "#get the per order transaction and associated purchase rate by executing describe()\n",
    "invoice_grouped.describe()"
   ]
  },
  {
   "cell_type": "code",
   "execution_count": 44,
   "metadata": {},
   "outputs": [
    {
     "data": {
      "text/plain": [
       "\"During the 1 yr statistical period , we have 19960 effective \\norders,per order transaction is £533.17, associated purchase\\nrate is 279. It indicates that the dominated business \\nof this e-commerence website may be wholesale.\\nThe mean of 'SumPrice' and 'Quantity' are larger than their\\nmedian, and the average SumPrice if even larger than its Q3 \\nvalue, thus,we can conclude that the overall difference among \\nall orders are obvious,and some customers with super-strong \\npurchasing power exist.\\n\""
      ]
     },
     "execution_count": 44,
     "metadata": {},
     "output_type": "execute_result"
    }
   ],
   "source": [
    "'''\n",
    "During the 1 yr statistical period, we have 19960 effective \n",
    "orders, per order transaction is £533.17, associated purchase\n",
    "rate is around 279. It indicates that the dominating business \n",
    "of this e-commerce website is wholesale.\n",
    "The mean of 'SumPrice' and 'Quantity' are larger than their\n",
    "median, and the average SumPrice even exceeds the Q3 value. \n",
    "Thus, the overall difference among all orders \n",
    "were apparent, and some customers with super-strong \n",
    "purchasing power existed.\n",
    "'''"
   ]
  },
  {
   "cell_type": "code",
   "execution_count": 45,
   "metadata": {
    "scrolled": true
   },
   "outputs": [
    {
     "data": {
      "image/png": "[encoded data removed]",
      "text/plain": [
       "<Figure size 864x288 with 1 Axes>"
      ]
     },
     "metadata": {},
     "output_type": "display_data"
    }
   ],
   "source": [
    "#draw a histogram named 'SumPrice Distribution of orders'\n",
    "invoice_grouped['SumPrice'].hist(bins = 100, figsize = (12, 4), color = 'c')\n",
    "plt.title('SumPrice Distribution of Orders')\n",
    "plt.ylabel('Frequency')\n",
    "plt.xlabel('SumPrice')\n",
    "plt.show()"
   ]
  },
  {
   "cell_type": "code",
   "execution_count": 121,
   "metadata": {},
   "outputs": [
    {
     "data": {
      "image/png": "[encoded data removed]",
      "text/plain": [
       "<Figure size 864x288 with 1 Axes>"
      ]
     },
     "metadata": {},
     "output_type": "display_data"
    }
   ],
   "source": [
    "#some SumPrice data is too big to provide a good visualization\n",
    "#effect, here we filter orders with SumPrice over 1500\n",
    "invoice_grouped[invoice_grouped.SumPrice < 1500]['SumPrice'].hist(bins = 100, figsize = (12, 4), color = 'c')\n",
    "plt.title('SumPrice Distribution of Orders (Below 1500)')\n",
    "plt.ylabel('Frequency')\n",
    "plt.xlabel('SumPrice')\n",
    "plt.show()"
   ]
  },
  {
   "cell_type": "code",
   "execution_count": 47,
   "metadata": {},
   "outputs": [
    {
     "data": {
      "text/plain": [
       "'\\nthe SumPrice of orders concentrate within £400, and we have \\nthree peak values occurred within the following periods: \\nwithin £20, £100~230, £300~320, and the highest is in  £300~320\\n\\n * This is a point for further exploration.\\n'"
      ]
     },
     "execution_count": 47,
     "metadata": {},
     "output_type": "execute_result"
    }
   ],
   "source": [
    "'''\n",
    "the SumPrice of orders concentrate within £400, and we have \n",
    "three peak values occur within the following periods: \n",
    "within £20, £100~230, £300~320, and the highest is in  £300~320\n",
    "\n",
    " * This is a point for further exploration.\n",
    "'''"
   ]
  },
  {
   "cell_type": "code",
   "execution_count": 48,
   "metadata": {},
   "outputs": [
    {
     "data": {
      "image/png": "[encoded data removed]",
      "text/plain": [
       "<Figure size 864x288 with 1 Axes>"
      ]
     },
     "metadata": {},
     "output_type": "display_data"
    }
   ],
   "source": [
    "#draw a histogram named 'Quantity distribution of Orders'\n",
    "invoice_grouped['Quantity'].hist(bins = 100, figsize = (12, 4), color = 'c')\n",
    "plt.title('Quantity Distribution of Orders')\n",
    "plt.ylabel('Frequency')\n",
    "plt.xlabel('Quantity')\n",
    "plt.show()"
   ]
  },
  {
   "cell_type": "code",
   "execution_count": 49,
   "metadata": {},
   "outputs": [
    {
     "data": {
      "image/png": "[encoded data removed]",
      "text/plain": [
       "<Figure size 864x288 with 1 Axes>"
      ]
     },
     "metadata": {},
     "output_type": "display_data"
    }
   ],
   "source": [
    "#some outliers make the quantity range too wide and affect\n",
    "#the visualization effect, here we filter orders with quantity over 2000\n",
    "invoice_grouped[invoice_grouped.Quantity < 2000]['Quantity'].hist(bins = 50, figsize = (12, 4), color = 'c')\n",
    "plt.title('Quantity Distribution of Orders (Below 2000)')\n",
    "plt.ylabel('Frequency')\n",
    "plt.xlabel('Quantity')\n",
    "plt.show()"
   ]
  },
  {
   "cell_type": "code",
   "execution_count": 50,
   "metadata": {},
   "outputs": [
    {
     "data": {
      "text/plain": [
       "'\\nThe shape of the distrbution of goods quantities shows a \\nlong-tail dustribution, most orders have the their goods \\nquantities within 250, the more the per-order goods quantity is,\\nthe less the order amount is.\\n'"
      ]
     },
     "execution_count": 50,
     "metadata": {},
     "output_type": "execute_result"
    }
   ],
   "source": [
    "'''\n",
    "The shape of the distrbution of goods quantities shows a \n",
    "long-tail dustribution, most orders had the their goods \n",
    "quantities within 250, the more the per-order goods quantity was,\n",
    "the less the number of orders was.\n",
    "'''"
   ]
  },
  {
   "cell_type": "code",
   "execution_count": 51,
   "metadata": {},
   "outputs": [
    {
     "data": {
      "image/png": "[encoded data removed]",
      "text/plain": [
       "<Figure size 1008x288 with 2 Axes>"
      ]
     },
     "metadata": {},
     "output_type": "display_data"
    }
   ],
   "source": [
    "#Draw a scatter plot to find the relationship between SumPrice\n",
    "#and order quantity.\n",
    "plt.figure(figsize=(14,4))\n",
    "plt.subplot(121)\n",
    "plt.scatter(invoice_grouped['Quantity'], invoice_grouped['SumPrice'], color = 'c')\n",
    "plt.title('SumPrice & Quantity')\n",
    "plt.ylabel('SumPrice')\n",
    "plt.xlabel('Quantity')\n",
    "\n",
    "plt.subplot(122)\n",
    "plt.scatter(invoice_grouped[invoice_grouped.Quantity < 20000]['Quantity'], invoice_grouped[invoice_grouped.Quantity < 20000]['SumPrice'], color = 'c')\n",
    "plt.title('SumPrice & Quantity (Quantity < 20000)')\n",
    "plt.ylabel('SumPrice')\n",
    "plt.xlabel('Quantity')\n",
    "plt.show()"
   ]
  },
  {
   "cell_type": "code",
   "execution_count": 52,
   "metadata": {},
   "outputs": [
    {
     "data": {
      "text/plain": [
       "'\\nIn general,the variable SumPrice has a positive correlation with\\nQuantity. However,there is some outlier(high sumprice and low \\nquantity).  * This is a point for further exploration.\\n'"
      ]
     },
     "execution_count": 52,
     "metadata": {},
     "output_type": "execute_result"
    }
   ],
   "source": [
    "'''\n",
    "In general,the variable SumPrice has a positive correlation with\n",
    "Quantity. However,there are some outliers(high sumprice and low \n",
    "quantity).  * This is a point for further exploration.\n",
    "'''"
   ]
  },
  {
   "cell_type": "code",
   "execution_count": 53,
   "metadata": {},
   "outputs": [
    {
     "data": {
      "text/html": [
       "<div>\n",
       "<style>\n",
       "    .dataframe thead tr:only-child th {\n",
       "        text-align: right;\n",
       "    }\n",
       "\n",
       "    .dataframe thead th {\n",
       "        text-align: left;\n",
       "    }\n",
       "\n",
       "    .dataframe tbody tr th {\n",
       "        vertical-align: top;\n",
       "    }\n",
       "</style>\n",
       "<table border=\"1\" class=\"dataframe\">\n",
       "  <thead>\n",
       "    <tr style=\"text-align: right;\">\n",
       "      <th></th>\n",
       "      <th>CustomerID</th>\n",
       "      <th>InvoiceNo</th>\n",
       "      <th>Quantity</th>\n",
       "      <th>SumPrice</th>\n",
       "    </tr>\n",
       "  </thead>\n",
       "  <tbody>\n",
       "    <tr>\n",
       "      <th>0</th>\n",
       "      <td>12346</td>\n",
       "      <td>541431</td>\n",
       "      <td>74215</td>\n",
       "      <td>77183.60</td>\n",
       "    </tr>\n",
       "    <tr>\n",
       "      <th>1</th>\n",
       "      <td>12347</td>\n",
       "      <td>537626</td>\n",
       "      <td>319</td>\n",
       "      <td>711.79</td>\n",
       "    </tr>\n",
       "    <tr>\n",
       "      <th>2</th>\n",
       "      <td>12347</td>\n",
       "      <td>542237</td>\n",
       "      <td>315</td>\n",
       "      <td>475.39</td>\n",
       "    </tr>\n",
       "    <tr>\n",
       "      <th>3</th>\n",
       "      <td>12347</td>\n",
       "      <td>549222</td>\n",
       "      <td>483</td>\n",
       "      <td>636.25</td>\n",
       "    </tr>\n",
       "    <tr>\n",
       "      <th>4</th>\n",
       "      <td>12347</td>\n",
       "      <td>556201</td>\n",
       "      <td>196</td>\n",
       "      <td>382.52</td>\n",
       "    </tr>\n",
       "  </tbody>\n",
       "</table>\n",
       "</div>"
      ],
      "text/plain": [
       "   CustomerID  InvoiceNo  Quantity  SumPrice\n",
       "0       12346     541431     74215  77183.60\n",
       "1       12347     537626       319    711.79\n",
       "2       12347     542237       315    475.39\n",
       "3       12347     549222       483    636.25\n",
       "4       12347     556201       196    382.52"
      ]
     },
     "execution_count": 53,
     "metadata": {},
     "output_type": "execute_result"
    }
   ],
   "source": [
    "#2.From the perspective of customers:\n",
    "\n",
    "#Here we only analyse customers with customer ID(not 0)\n",
    "sales_customer=sales_success[sales_success.CustomerID!=0].copy()\n",
    "#group all data by customer and InvoiceNo first\n",
    "customer_grouped=sales_customer.groupby(['CustomerID','InvoiceNo'])[['Quantity','SumPrice']].sum().reset_index()\n",
    "customer_grouped.head()"
   ]
  },
  {
   "cell_type": "code",
   "execution_count": 54,
   "metadata": {},
   "outputs": [
    {
     "data": {
      "text/html": [
       "<div>\n",
       "<style>\n",
       "    .dataframe thead tr:only-child th {\n",
       "        text-align: right;\n",
       "    }\n",
       "\n",
       "    .dataframe thead th {\n",
       "        text-align: left;\n",
       "    }\n",
       "\n",
       "    .dataframe tbody tr th {\n",
       "        vertical-align: top;\n",
       "    }\n",
       "</style>\n",
       "<table border=\"1\" class=\"dataframe\">\n",
       "  <thead>\n",
       "    <tr style=\"text-align: right;\">\n",
       "      <th></th>\n",
       "      <th>InvoiceNo</th>\n",
       "      <th>Quantity</th>\n",
       "      <th>SumPrice</th>\n",
       "    </tr>\n",
       "    <tr>\n",
       "      <th>CustomerID</th>\n",
       "      <th></th>\n",
       "      <th></th>\n",
       "      <th></th>\n",
       "    </tr>\n",
       "  </thead>\n",
       "  <tbody>\n",
       "    <tr>\n",
       "      <th>12346</th>\n",
       "      <td>1</td>\n",
       "      <td>74215</td>\n",
       "      <td>77183.60</td>\n",
       "    </tr>\n",
       "    <tr>\n",
       "      <th>12347</th>\n",
       "      <td>7</td>\n",
       "      <td>2458</td>\n",
       "      <td>4310.00</td>\n",
       "    </tr>\n",
       "    <tr>\n",
       "      <th>12348</th>\n",
       "      <td>4</td>\n",
       "      <td>2341</td>\n",
       "      <td>1797.24</td>\n",
       "    </tr>\n",
       "    <tr>\n",
       "      <th>12349</th>\n",
       "      <td>1</td>\n",
       "      <td>631</td>\n",
       "      <td>1757.55</td>\n",
       "    </tr>\n",
       "    <tr>\n",
       "      <th>12350</th>\n",
       "      <td>1</td>\n",
       "      <td>197</td>\n",
       "      <td>334.40</td>\n",
       "    </tr>\n",
       "  </tbody>\n",
       "</table>\n",
       "</div>"
      ],
      "text/plain": [
       "            InvoiceNo  Quantity  SumPrice\n",
       "CustomerID                               \n",
       "12346               1     74215  77183.60\n",
       "12347               7      2458   4310.00\n",
       "12348               4      2341   1797.24\n",
       "12349               1       631   1757.55\n",
       "12350               1       197    334.40"
      ]
     },
     "execution_count": 54,
     "metadata": {},
     "output_type": "execute_result"
    }
   ],
   "source": [
    "#group all data by customer again\n",
    "customer_grouped = customer_grouped.groupby('CustomerID').agg({'InvoiceNo':np.size,'Quantity':np.sum,'SumPrice':np.sum})\n",
    "customer_grouped.head()"
   ]
  },
  {
   "cell_type": "code",
   "execution_count": 55,
   "metadata": {},
   "outputs": [
    {
     "data": {
      "text/html": [
       "<div>\n",
       "<style>\n",
       "    .dataframe thead tr:only-child th {\n",
       "        text-align: right;\n",
       "    }\n",
       "\n",
       "    .dataframe thead th {\n",
       "        text-align: left;\n",
       "    }\n",
       "\n",
       "    .dataframe tbody tr th {\n",
       "        vertical-align: top;\n",
       "    }\n",
       "</style>\n",
       "<table border=\"1\" class=\"dataframe\">\n",
       "  <thead>\n",
       "    <tr style=\"text-align: right;\">\n",
       "      <th></th>\n",
       "      <th>InvoiceNo</th>\n",
       "      <th>Quantity</th>\n",
       "      <th>SumPrice</th>\n",
       "    </tr>\n",
       "  </thead>\n",
       "  <tbody>\n",
       "    <tr>\n",
       "      <th>count</th>\n",
       "      <td>4338.000000</td>\n",
       "      <td>4338.000000</td>\n",
       "      <td>4338.000000</td>\n",
       "    </tr>\n",
       "    <tr>\n",
       "      <th>mean</th>\n",
       "      <td>4.272015</td>\n",
       "      <td>1187.641770</td>\n",
       "      <td>2048.679865</td>\n",
       "    </tr>\n",
       "    <tr>\n",
       "      <th>std</th>\n",
       "      <td>7.697998</td>\n",
       "      <td>5043.619358</td>\n",
       "      <td>8985.227179</td>\n",
       "    </tr>\n",
       "    <tr>\n",
       "      <th>min</th>\n",
       "      <td>1.000000</td>\n",
       "      <td>1.000000</td>\n",
       "      <td>3.750000</td>\n",
       "    </tr>\n",
       "    <tr>\n",
       "      <th>25%</th>\n",
       "      <td>1.000000</td>\n",
       "      <td>159.000000</td>\n",
       "      <td>306.482500</td>\n",
       "    </tr>\n",
       "    <tr>\n",
       "      <th>50%</th>\n",
       "      <td>2.000000</td>\n",
       "      <td>378.000000</td>\n",
       "      <td>668.570000</td>\n",
       "    </tr>\n",
       "    <tr>\n",
       "      <th>75%</th>\n",
       "      <td>5.000000</td>\n",
       "      <td>989.750000</td>\n",
       "      <td>1660.597500</td>\n",
       "    </tr>\n",
       "    <tr>\n",
       "      <th>max</th>\n",
       "      <td>209.000000</td>\n",
       "      <td>196915.000000</td>\n",
       "      <td>280206.020000</td>\n",
       "    </tr>\n",
       "  </tbody>\n",
       "</table>\n",
       "</div>"
      ],
      "text/plain": [
       "         InvoiceNo       Quantity       SumPrice\n",
       "count  4338.000000    4338.000000    4338.000000\n",
       "mean      4.272015    1187.641770    2048.679865\n",
       "std       7.697998    5043.619358    8985.227179\n",
       "min       1.000000       1.000000       3.750000\n",
       "25%       1.000000     159.000000     306.482500\n",
       "50%       2.000000     378.000000     668.570000\n",
       "75%       5.000000     989.750000    1660.597500\n",
       "max     209.000000  196915.000000  280206.020000"
      ]
     },
     "execution_count": 55,
     "metadata": {},
     "output_type": "execute_result"
    }
   ],
   "source": [
    "customer_grouped.describe()"
   ]
  },
  {
   "cell_type": "code",
   "execution_count": 56,
   "metadata": {},
   "outputs": [
    {
     "data": {
      "text/plain": [
       "\"\\nThe mean value for per customer order amount is 4, the median\\nis 2,also, over 25% customer only placed order once and didn't\\nretain. The per customer order amount is 1187, exceeds the Q3 \\nvalue, the customer purchased most bought 196915 products in \\ntotal. The per customer transaction is £2049, exceeds the Q3 \\nvalue as well. This indicates there occurs obvious purchasing \\npower differences among all customers, some customers with \\nhigh expenditure make the mean value high.\\n\""
      ]
     },
     "execution_count": 56,
     "metadata": {},
     "output_type": "execute_result"
    }
   ],
   "source": [
    "'''\n",
    "The mean value for per customer order amount is 4; the median\n",
    "is 2; also, over 25% customer only placed their order once and didn't\n",
    "retain. The per customer order amount is 1187, exceeds the Q3 \n",
    "value, the customer purchased most bought 196915 products in total. \n",
    "The per customer transaction is £2049, exceeds the Q3 value as well. \n",
    "These indicate there occurred noticeable purchasing power differences among \n",
    "all customers.Customers with high expenditure make the mean value high.\n",
    "'''"
   ]
  },
  {
   "cell_type": "code",
   "execution_count": 57,
   "metadata": {},
   "outputs": [
    {
     "data": {
      "image/png": "[encoded data removed]",
      "text/plain": [
       "<Figure size 1008x288 with 2 Axes>"
      ]
     },
     "metadata": {},
     "output_type": "display_data"
    }
   ],
   "source": [
    "#draw a scatter diagram with the data related to SumPrice and Quantity(grouped by customer)\n",
    "plt.figure(figsize=(14,4))\n",
    "plt.subplot(121)\n",
    "plt.scatter(customer_grouped['Quantity'], customer_grouped['SumPrice'], color = 'darkblue')\n",
    "plt.title('SumPrice & Quantity')\n",
    "plt.ylabel('SumPrice')\n",
    "plt.xlabel('Quantity')\n",
    "\n",
    "plt.subplot(122)\n",
    "plt.scatter(customer_grouped[customer_grouped.Quantity < 25000]['Quantity'], customer_grouped[customer_grouped.Quantity < 25000]['SumPrice'], color = 'darkblue')\n",
    "plt.title('SumPrice & Quantity (Quantity<25000)')\n",
    "plt.ylabel('SumPrice')\n",
    "plt.xlabel('Quantity')\n",
    "plt.show()"
   ]
  },
  {
   "cell_type": "code",
   "execution_count": 58,
   "metadata": {},
   "outputs": [
    {
     "data": {
      "image/png": "[encoded data removed]",
      "text/plain": [
       "<Figure size 864x288 with 1 Axes>"
      ]
     },
     "metadata": {},
     "output_type": "display_data"
    }
   ],
   "source": [
    "customer_grouped.SumPrice.hist(bins = 50, figsize = (12, 4), color = 'darkblue')\n",
    "plt.title('SumPrice Distribution (group by customers)')\n",
    "plt.ylabel('Frequency')\n",
    "plt.xlabel('SumPrice')\n",
    "plt.show()"
   ]
  },
  {
   "cell_type": "code",
   "execution_count": 59,
   "metadata": {},
   "outputs": [
    {
     "data": {
      "text/plain": [
       "\"\\nFrom the histogram we can find most of the customers don't have\\nstrong purchasing power.If we focus on SumPrice Distribution \\nof Customers with order SumPrice below 5000, we get a single\\npeak long tail distribution graph. The peak value locates in \\nthe period (£83,£333)\\n\""
      ]
     },
     "execution_count": 59,
     "metadata": {},
     "output_type": "execute_result"
    }
   ],
   "source": [
    "'''\n",
    "From the histogram, we find most of the customers didn't have\n",
    "strong purchasing power. If we focus on SumPrice Distribution \n",
    "of Customers with order SumPrice below 5000, we get a single\n",
    "peak long-tail distribution graph. The peak value locates in \n",
    "the period (£83,£333)\n",
    "'''"
   ]
  },
  {
   "cell_type": "code",
   "execution_count": 60,
   "metadata": {},
   "outputs": [
    {
     "data": {
      "image/png": "[encoded data removed]",
      "text/plain": [
       "<Figure size 864x288 with 1 Axes>"
      ]
     },
     "metadata": {},
     "output_type": "display_data"
    }
   ],
   "source": [
    "customer_grouped[customer_grouped.SumPrice < 5000].SumPrice.hist(bins = 60, figsize = (12, 4), color = 'darkblue')\n",
    "plt.title('SumPrice Distribution (group by customers) (Below 5000)')\n",
    "plt.ylabel('Frequency')\n",
    "plt.xlabel('SumPrice')\n",
    "plt.show()"
   ]
  },
  {
   "cell_type": "code",
   "execution_count": 61,
   "metadata": {},
   "outputs": [
    {
     "data": {
      "text/plain": [
       "2.95    1702\n",
       "2.55     358\n",
       "5.79     157\n",
       "5.91      25\n",
       "3.20       5\n",
       "3.24       4\n",
       "2.40       1\n",
       "Name: UnitPrice, dtype: int64"
      ]
     },
     "execution_count": 61,
     "metadata": {},
     "output_type": "execute_result"
    }
   ],
   "source": [
    "#From the perspective of products:\n",
    "\n",
    "#Unit price for some products fluctuates.\n",
    "#example:\n",
    "sales_success[sales_success['StockCode'] == '85123A'][['UnitPrice','Date']]\n",
    "#sales_success.loc[sales_success['StockCode'] == '85123A',['UnitPrice','Date']]\n",
    "sales_success.loc[sales_success['StockCode'] == '85123A',:].UnitPrice.value_counts()"
   ]
  },
  {
   "cell_type": "code",
   "execution_count": 62,
   "metadata": {},
   "outputs": [
    {
     "data": {
      "text/plain": [
       "'\\nPrice of one specific product can be various in different \\nmonth, thus, we calculate the mean price of each product.\\n(we group the products by using the stock code, calculate \\nthe total sales and total sold amount, and use total sales\\n/total number of units). \\n'"
      ]
     },
     "execution_count": 62,
     "metadata": {},
     "output_type": "execute_result"
    }
   ],
   "source": [
    "'''\n",
    "Price of one specific product can be various in different \n",
    "months, thus, we calculate the mean cost of each product.\n",
    "(we group the products by using the stock code, calculate \n",
    "the total sales and total sold amount, and use total sales\n",
    "/total number of units). \n",
    "'''"
   ]
  },
  {
   "cell_type": "code",
   "execution_count": 63,
   "metadata": {},
   "outputs": [
    {
     "data": {
      "text/html": [
       "<div>\n",
       "<style>\n",
       "    .dataframe thead tr:only-child th {\n",
       "        text-align: right;\n",
       "    }\n",
       "\n",
       "    .dataframe thead th {\n",
       "        text-align: left;\n",
       "    }\n",
       "\n",
       "    .dataframe tbody tr th {\n",
       "        vertical-align: top;\n",
       "    }\n",
       "</style>\n",
       "<table border=\"1\" class=\"dataframe\">\n",
       "  <thead>\n",
       "    <tr style=\"text-align: right;\">\n",
       "      <th></th>\n",
       "      <th>Quantity</th>\n",
       "      <th>SumPrice</th>\n",
       "      <th>AvgPrice</th>\n",
       "    </tr>\n",
       "    <tr>\n",
       "      <th>StockCode</th>\n",
       "      <th></th>\n",
       "      <th></th>\n",
       "      <th></th>\n",
       "    </tr>\n",
       "  </thead>\n",
       "  <tbody>\n",
       "    <tr>\n",
       "      <th>10002</th>\n",
       "      <td>860</td>\n",
       "      <td>759.89</td>\n",
       "      <td>0.883593</td>\n",
       "    </tr>\n",
       "    <tr>\n",
       "      <th>10080</th>\n",
       "      <td>303</td>\n",
       "      <td>119.09</td>\n",
       "      <td>0.393036</td>\n",
       "    </tr>\n",
       "    <tr>\n",
       "      <th>10120</th>\n",
       "      <td>192</td>\n",
       "      <td>40.32</td>\n",
       "      <td>0.210000</td>\n",
       "    </tr>\n",
       "    <tr>\n",
       "      <th>10125</th>\n",
       "      <td>1295</td>\n",
       "      <td>993.99</td>\n",
       "      <td>0.767560</td>\n",
       "    </tr>\n",
       "    <tr>\n",
       "      <th>10133</th>\n",
       "      <td>2856</td>\n",
       "      <td>1539.60</td>\n",
       "      <td>0.539076</td>\n",
       "    </tr>\n",
       "  </tbody>\n",
       "</table>\n",
       "</div>"
      ],
      "text/plain": [
       "           Quantity  SumPrice  AvgPrice\n",
       "StockCode                              \n",
       "10002           860    759.89  0.883593\n",
       "10080           303    119.09  0.393036\n",
       "10120           192     40.32  0.210000\n",
       "10125          1295    993.99  0.767560\n",
       "10133          2856   1539.60  0.539076"
      ]
     },
     "execution_count": 63,
     "metadata": {},
     "output_type": "execute_result"
    }
   ],
   "source": [
    "goods_grouped = sales_success.groupby('StockCode')[['Quantity', 'SumPrice']].sum()\n",
    "goods_grouped['AvgPrice'] = goods_grouped['SumPrice'] / goods_grouped['Quantity']\n",
    "goods_grouped.head()"
   ]
  },
  {
   "cell_type": "code",
   "execution_count": 64,
   "metadata": {},
   "outputs": [
    {
     "data": {
      "image/png": "[encoded data removed]",
      "text/plain": [
       "<Figure size 432x288 with 1 Axes>"
      ]
     },
     "metadata": {},
     "output_type": "display_data"
    }
   ],
   "source": [
    "goods_grouped.AvgPrice.hist(bins=100)\n",
    "plt.title('AvgPrice Distribution')\n",
    "plt.ylabel('Frequency')\n",
    "plt.xlabel('SumPrice')\n",
    "plt.show()"
   ]
  },
  {
   "cell_type": "code",
   "execution_count": 65,
   "metadata": {
    "collapsed": true
   },
   "outputs": [],
   "source": [
    "#The price of most products is less than £100. Here we filter the outlier."
   ]
  },
  {
   "cell_type": "code",
   "execution_count": 66,
   "metadata": {},
   "outputs": [
    {
     "data": {
      "image/png": "[encoded data removed]",
      "text/plain": [
       "<Figure size 432x288 with 1 Axes>"
      ]
     },
     "metadata": {},
     "output_type": "display_data"
    }
   ],
   "source": [
    "goods_grouped[goods_grouped.AvgPrice<25]['AvgPrice'].hist(bins=100)\n",
    "plt.title('AvgPrice Distribution(below 25)')\n",
    "plt.ylabel('Frequency')\n",
    "plt.xlabel('SumPrice')\n",
    "plt.show()"
   ]
  },
  {
   "cell_type": "code",
   "execution_count": 67,
   "metadata": {},
   "outputs": [
    {
     "data": {
      "text/plain": [
       "'\\nThe peak value of products unit price is £1-2， products with\\nunit price higher than £10 are rare. Thus, the value proposition\\nof this e-commerce website is focusing on the wholesale of \\nsmallware with low unit price.\\n'"
      ]
     },
     "execution_count": 67,
     "metadata": {},
     "output_type": "execute_result"
    }
   ],
   "source": [
    "'''\n",
    "The peak value of products unit price is £1-2, A few products had\n",
    "their unit price higher than £10. Thus, the value proposition\n",
    "of this e-commerce website was focusing on the wholesale of \n",
    "small commodities with low unit price.\n",
    "'''"
   ]
  },
  {
   "cell_type": "code",
   "execution_count": 68,
   "metadata": {},
   "outputs": [
    {
     "data": {
      "image/png": "[encoded data removed]",
      "text/plain": [
       "<Figure size 1008x288 with 2 Axes>"
      ]
     },
     "metadata": {},
     "output_type": "display_data"
    }
   ],
   "source": [
    "plt.figure(figsize=(14,4))\n",
    "plt.subplot(121)\n",
    "plt.scatter(goods_grouped['AvgPrice'], goods_grouped['Quantity'], color = 'r')\n",
    "plt.title('AvgPrice & Quantity')\n",
    "plt.ylabel('Quantity')\n",
    "plt.xlabel('AvgPrice')\n",
    "\n",
    "plt.subplot(122)\n",
    "plt.scatter(goods_grouped[goods_grouped.AvgPrice < 25]['AvgPrice'],goods_grouped[goods_grouped.AvgPrice < 25]['Quantity'], color = 'r')\n",
    "plt.title('AvgPrice & Quantity (AvgPrice < 25)')\n",
    "plt.ylabel('Quantity')\n",
    "plt.xlabel('AvgPrice')\n",
    "plt.show()"
   ]
  },
  {
   "cell_type": "code",
   "execution_count": 69,
   "metadata": {},
   "outputs": [
    {
     "data": {
      "text/plain": [
       "\"From the sales quantity we cand find products with price lower\\nthan £5 get customer's preference.\\n\""
      ]
     },
     "execution_count": 69,
     "metadata": {},
     "output_type": "execute_result"
    }
   ],
   "source": [
    "'''\n",
    "From the sales quantity, we find products\n",
    "with price lower than £5 got the customer's preference. \n",
    "'''"
   ]
  },
  {
   "cell_type": "code",
   "execution_count": 70,
   "metadata": {},
   "outputs": [
    {
     "data": {
      "image/png": "[encoded data removed]",
      "text/plain": [
       "<Figure size 1008x288 with 2 Axes>"
      ]
     },
     "metadata": {},
     "output_type": "display_data"
    }
   ],
   "source": [
    "plt.figure(figsize=(14,4))\n",
    "plt.subplot(121)\n",
    "plt.scatter(goods_grouped['AvgPrice'], goods_grouped['SumPrice'], color = 'r')\n",
    "plt.title('AvgPrice & SumPrice')\n",
    "plt.ylabel('SumPrice')\n",
    "plt.xlabel('AvgPrice')\n",
    "\n",
    "plt.subplot(122)\n",
    "plt.scatter(goods_grouped[goods_grouped.AvgPrice < 25]['AvgPrice'], goods_grouped[goods_grouped.AvgPrice < 25]['SumPrice'], color = 'r')\n",
    "plt.title('AvgPrice & SumPrice (AvgPrice < 25)')\n",
    "plt.ylabel('SumPrice')\n",
    "plt.xlabel('AvgPrice')\n",
    "plt.show()"
   ]
  },
  {
   "cell_type": "code",
   "execution_count": 71,
   "metadata": {},
   "outputs": [
    {
     "data": {
      "text/plain": [
       "\"\\nProducts with low price also contribute to high SumPrice. This\\nkind of products becomes the leading source of the total sales.\\nHowever, although some goods have high unit price, high unit \\nprice doesn't result in high sales. \\nHere we suggest the purchasing department select more low price \\nproducts to enlarge product types in low price area.\\n\""
      ]
     },
     "execution_count": 71,
     "metadata": {},
     "output_type": "execute_result"
    }
   ],
   "source": [
    "'''\n",
    "Products with a low unit price also contributed to high SumPrice. \n",
    "This kind of commodities became the leading source of the total sales.\n",
    "Although some goods had a high unit price, the high unit price didn't \n",
    "result in high sales. Here we suggest the purchasing department select \n",
    "more low price products to enlarge product types in low price area.\n",
    "'''"
   ]
  },
  {
   "cell_type": "code",
   "execution_count": 72,
   "metadata": {
    "collapsed": true
   },
   "outputs": [],
   "source": [
    "#From the perspective of time:"
   ]
  },
  {
   "cell_type": "code",
   "execution_count": 73,
   "metadata": {
    "collapsed": true
   },
   "outputs": [],
   "source": [
    "time_grouped = sales_success.groupby('InvoiceNo').agg({'Date': np.min, 'Month': np.min, 'Quantity': np.sum, 'SumPrice': np.sum}).reset_index()"
   ]
  },
  {
   "cell_type": "code",
   "execution_count": 74,
   "metadata": {},
   "outputs": [
    {
     "data": {
      "text/html": [
       "<div>\n",
       "<style>\n",
       "    .dataframe thead tr:only-child th {\n",
       "        text-align: right;\n",
       "    }\n",
       "\n",
       "    .dataframe thead th {\n",
       "        text-align: left;\n",
       "    }\n",
       "\n",
       "    .dataframe tbody tr th {\n",
       "        vertical-align: top;\n",
       "    }\n",
       "</style>\n",
       "<table border=\"1\" class=\"dataframe\">\n",
       "  <thead>\n",
       "    <tr style=\"text-align: right;\">\n",
       "      <th></th>\n",
       "      <th>InvoiceNo</th>\n",
       "      <th>Date</th>\n",
       "      <th>Month</th>\n",
       "      <th>Quantity</th>\n",
       "      <th>SumPrice</th>\n",
       "    </tr>\n",
       "  </thead>\n",
       "  <tbody>\n",
       "    <tr>\n",
       "      <th>0</th>\n",
       "      <td>536365</td>\n",
       "      <td>2010-12-01</td>\n",
       "      <td>12</td>\n",
       "      <td>28</td>\n",
       "      <td>103.48</td>\n",
       "    </tr>\n",
       "    <tr>\n",
       "      <th>1</th>\n",
       "      <td>536366</td>\n",
       "      <td>2010-12-01</td>\n",
       "      <td>12</td>\n",
       "      <td>12</td>\n",
       "      <td>22.20</td>\n",
       "    </tr>\n",
       "    <tr>\n",
       "      <th>2</th>\n",
       "      <td>536367</td>\n",
       "      <td>2010-12-01</td>\n",
       "      <td>12</td>\n",
       "      <td>83</td>\n",
       "      <td>278.73</td>\n",
       "    </tr>\n",
       "    <tr>\n",
       "      <th>3</th>\n",
       "      <td>536368</td>\n",
       "      <td>2010-12-01</td>\n",
       "      <td>12</td>\n",
       "      <td>15</td>\n",
       "      <td>70.05</td>\n",
       "    </tr>\n",
       "    <tr>\n",
       "      <th>4</th>\n",
       "      <td>536369</td>\n",
       "      <td>2010-12-01</td>\n",
       "      <td>12</td>\n",
       "      <td>3</td>\n",
       "      <td>17.85</td>\n",
       "    </tr>\n",
       "  </tbody>\n",
       "</table>\n",
       "</div>"
      ],
      "text/plain": [
       "  InvoiceNo       Date  Month  Quantity  SumPrice\n",
       "0    536365 2010-12-01     12        28    103.48\n",
       "1    536366 2010-12-01     12        12     22.20\n",
       "2    536367 2010-12-01     12        83    278.73\n",
       "3    536368 2010-12-01     12        15     70.05\n",
       "4    536369 2010-12-01     12         3     17.85"
      ]
     },
     "execution_count": 74,
     "metadata": {},
     "output_type": "execute_result"
    }
   ],
   "source": [
    "time_grouped.head()"
   ]
  },
  {
   "cell_type": "code",
   "execution_count": 75,
   "metadata": {},
   "outputs": [
    {
     "data": {
      "image/png": "[encoded data removed]",
      "text/plain": [
       "<Figure size 864x288 with 2 Axes>"
      ]
     },
     "metadata": {},
     "output_type": "display_data"
    }
   ],
   "source": [
    "month=time_grouped.groupby('Month').agg({'Quantity':np.sum,'SumPrice':np.sum,'InvoiceNo':np.size})\n",
    "month_plot=month.plot(secondary_y='InvoiceNo',x_compat=True,figsize=(12,4))\n",
    "month_plot.set_ylabel('Quantity&SumPrice')\n",
    "month_plot.right_ax.set_ylabel('Order quantities')\n",
    "plt.show()"
   ]
  },
  {
   "cell_type": "code",
   "execution_count": 76,
   "metadata": {},
   "outputs": [
    {
     "data": {
      "text/plain": [
       "\"\\nWe draw the plot with double axes on monthly basis to show the whole sales,\\nsales volume and order amount per month. \\nOne point to mention here is that  we only have data for 9\\ndays in December and thats why we see a 'decrease' in December\\nwhich againsts the general trend.\\nAll three plots have similar trend. The sales conditions remains\\nstable relatively from January to August.And then keeps growing \\nbetween September and November. Consider the dominate business \\nof this e-commerce platform is gift, the sales would be affected\\nobviously by holidays, such as Halloween, Thanks Giving Day,BlacK\\nFriday and Boxing day.\\n\""
      ]
     },
     "execution_count": 76,
     "metadata": {},
     "output_type": "execute_result"
    }
   ],
   "source": [
    "'''\n",
    "We draw the plot with double axes on a monthly basis to show the \n",
    "wholesales,sales volume, and order amount per month. One point to \n",
    "mention here is that we only have data for 9 days in December and \n",
    "that's why we see a 'decrease' in December which goes against the \n",
    "general trend.All three plots have similar trends.The sales \n",
    "conditions remained stable relatively from January to August. And then \n",
    "kept growing between September and November. Consider the dominating \n",
    "business of this e-commerce platform was selling gifts, the sales would \n",
    "be affected obviously by holidays, such as Halloween, Thanks Giving Day, \n",
    "Black Friday and Boxing day.\n",
    "'''"
   ]
  },
  {
   "cell_type": "code",
   "execution_count": 77,
   "metadata": {},
   "outputs": [
    {
     "data": {
      "image/png": "[encoded data removed]",
      "text/plain": [
       "<Figure size 1080x360 with 2 Axes>"
      ]
     },
     "metadata": {},
     "output_type": "display_data"
    }
   ],
   "source": [
    "day=time_grouped.groupby('Date').agg({'Quantity':np.sum,'SumPrice':np.sum,'InvoiceNo':np.size}).plot(secondary_y='InvoiceNo',x_compat=True,figsize=(15,5))\n",
    "day.set_ylabel('Quantity & SumPrice')\n",
    "day.right_ax.set_ylabel('Order quantities')\n",
    "plt.show()"
   ]
  },
  {
   "cell_type": "code",
   "execution_count": 78,
   "metadata": {},
   "outputs": [
    {
     "data": {
      "text/plain": [
       "'\\nWe draw the plot with double axes on daily basis to show the \\nwhole sales,sales volume and order amount per day. As we analyzed\\nbefore, Quantity and SumPrice show similar trend.Here we see a \\nsurge of sales in the last month. We draw graph of this period\\nseparately.\\n'"
      ]
     },
     "execution_count": 78,
     "metadata": {},
     "output_type": "execute_result"
    }
   ],
   "source": [
    "'''\n",
    "We draw the plot with double axes daily to show the sales, sales \n",
    "volume, and order amount per day. As we analyzed before, Quantity \n",
    "and SumPrice show similar trends.Here we see a surge in sales in \n",
    "the last month. We draw a graph of this period separately.\n",
    "\n",
    "'''"
   ]
  },
  {
   "cell_type": "code",
   "execution_count": 79,
   "metadata": {},
   "outputs": [
    {
     "data": {
      "image/png": "[encoded data removed]",
      "text/plain": [
       "<Figure size 1080x360 with 2 Axes>"
      ]
     },
     "metadata": {},
     "output_type": "display_data"
    },
    {
     "data": {
      "text/html": [
       "<div>\n",
       "<style>\n",
       "    .dataframe thead tr:only-child th {\n",
       "        text-align: right;\n",
       "    }\n",
       "\n",
       "    .dataframe thead th {\n",
       "        text-align: left;\n",
       "    }\n",
       "\n",
       "    .dataframe tbody tr th {\n",
       "        vertical-align: top;\n",
       "    }\n",
       "</style>\n",
       "<table border=\"1\" class=\"dataframe\">\n",
       "  <thead>\n",
       "    <tr style=\"text-align: right;\">\n",
       "      <th></th>\n",
       "      <th>InvoiceNo</th>\n",
       "      <th>StockCode</th>\n",
       "      <th>Description</th>\n",
       "      <th>Quantity</th>\n",
       "      <th>InvoiceTime</th>\n",
       "      <th>UnitPrice</th>\n",
       "      <th>CustomerID</th>\n",
       "      <th>Country</th>\n",
       "      <th>Date</th>\n",
       "      <th>Month</th>\n",
       "      <th>SumPrice</th>\n",
       "    </tr>\n",
       "  </thead>\n",
       "  <tbody>\n",
       "    <tr>\n",
       "      <th>535160</th>\n",
       "      <td>581483</td>\n",
       "      <td>23843</td>\n",
       "      <td>PAPER CRAFT , LITTLE BIRDIE</td>\n",
       "      <td>80995</td>\n",
       "      <td>2011-12-09 09:15:00</td>\n",
       "      <td>2.08</td>\n",
       "      <td>16446</td>\n",
       "      <td>United Kingdom</td>\n",
       "      <td>2011-12-09</td>\n",
       "      <td>12</td>\n",
       "      <td>168469.60</td>\n",
       "    </tr>\n",
       "    <tr>\n",
       "      <th>536279</th>\n",
       "      <td>581498</td>\n",
       "      <td>DOT</td>\n",
       "      <td>DOTCOM POSTAGE</td>\n",
       "      <td>1</td>\n",
       "      <td>2011-12-09 10:26:00</td>\n",
       "      <td>1714.17</td>\n",
       "      <td>0</td>\n",
       "      <td>United Kingdom</td>\n",
       "      <td>2011-12-09</td>\n",
       "      <td>12</td>\n",
       "      <td>1714.17</td>\n",
       "    </tr>\n",
       "    <tr>\n",
       "      <th>535647</th>\n",
       "      <td>581492</td>\n",
       "      <td>DOT</td>\n",
       "      <td>DOTCOM POSTAGE</td>\n",
       "      <td>1</td>\n",
       "      <td>2011-12-09 10:03:00</td>\n",
       "      <td>933.17</td>\n",
       "      <td>0</td>\n",
       "      <td>United Kingdom</td>\n",
       "      <td>2011-12-09</td>\n",
       "      <td>12</td>\n",
       "      <td>933.17</td>\n",
       "    </tr>\n",
       "    <tr>\n",
       "      <th>535164</th>\n",
       "      <td>581485</td>\n",
       "      <td>20749</td>\n",
       "      <td>ASSORTED COLOUR MINI CASES</td>\n",
       "      <td>84</td>\n",
       "      <td>2011-12-09 09:38:00</td>\n",
       "      <td>6.35</td>\n",
       "      <td>17389</td>\n",
       "      <td>United Kingdom</td>\n",
       "      <td>2011-12-09</td>\n",
       "      <td>12</td>\n",
       "      <td>533.40</td>\n",
       "    </tr>\n",
       "    <tr>\n",
       "      <th>536434</th>\n",
       "      <td>581566</td>\n",
       "      <td>23404</td>\n",
       "      <td>HOME SWEET HOME BLACKBOARD</td>\n",
       "      <td>144</td>\n",
       "      <td>2011-12-09 11:50:00</td>\n",
       "      <td>3.26</td>\n",
       "      <td>18102</td>\n",
       "      <td>United Kingdom</td>\n",
       "      <td>2011-12-09</td>\n",
       "      <td>12</td>\n",
       "      <td>469.44</td>\n",
       "    </tr>\n",
       "  </tbody>\n",
       "</table>\n",
       "</div>"
      ],
      "text/plain": [
       "       InvoiceNo StockCode                  Description  Quantity  \\\n",
       "535160    581483     23843  PAPER CRAFT , LITTLE BIRDIE     80995   \n",
       "536279    581498       DOT               DOTCOM POSTAGE         1   \n",
       "535647    581492       DOT               DOTCOM POSTAGE         1   \n",
       "535164    581485     20749   ASSORTED COLOUR MINI CASES        84   \n",
       "536434    581566     23404   HOME SWEET HOME BLACKBOARD       144   \n",
       "\n",
       "               InvoiceTime  UnitPrice  CustomerID         Country       Date  \\\n",
       "535160 2011-12-09 09:15:00       2.08       16446  United Kingdom 2011-12-09   \n",
       "536279 2011-12-09 10:26:00    1714.17           0  United Kingdom 2011-12-09   \n",
       "535647 2011-12-09 10:03:00     933.17           0  United Kingdom 2011-12-09   \n",
       "535164 2011-12-09 09:38:00       6.35       17389  United Kingdom 2011-12-09   \n",
       "536434 2011-12-09 11:50:00       3.26       18102  United Kingdom 2011-12-09   \n",
       "\n",
       "        Month   SumPrice  \n",
       "535160     12  168469.60  \n",
       "536279     12    1714.17  \n",
       "535647     12     933.17  \n",
       "535164     12     533.40  \n",
       "536434     12     469.44  "
      ]
     },
     "execution_count": 79,
     "metadata": {},
     "output_type": "execute_result"
    }
   ],
   "source": [
    "#for the convience to get time period,set time as index\n",
    "time_grouped=time_grouped.set_index('Date')\n",
    "day_part=time_grouped['2011-10-01':'2011-12-09'].groupby('Date').agg({'Quantity': np.sum, 'SumPrice': np.sum, 'InvoiceNo': np.size}).plot(secondary_y = 'InvoiceNo', x_compat=True,figsize = (15, 5))\n",
    "day_part.set_ylabel('Quantity & SumPrice')\n",
    "day_part.right_ax.set_ylabel('Order quantities')\n",
    "plt.show()\n",
    "\n",
    "sales_success[sales_success.Date=='2011-12-09'].sort_values(by='SumPrice',ascending=False).head()"
   ]
  },
  {
   "cell_type": "code",
   "execution_count": 80,
   "metadata": {},
   "outputs": [
    {
     "data": {
      "text/plain": [
       "\"\\nOn 9th,Dec, there is an apparent decrease in order quantity,\\nhowever, we get the highest sales in this sample interval, that\\nindicates there should be some order with large goods quantity\\non that day.\\nAfter browsing the sales data, a customer from UK bought 80000+\\npaper craft on 9th,Dec, caused the sales surge. It's better for \\nthe e-commerce platform to pay more attention to this high-value\\ncustomer by taking actions like setting fixed customer service \\nstaff to this client.\\n\""
      ]
     },
     "execution_count": 80,
     "metadata": {},
     "output_type": "execute_result"
    }
   ],
   "source": [
    "'''\n",
    "On 9th, Dec, there was an apparent decrease in order quantity,\n",
    "however, we get the highest sales in this sampling interval, that\n",
    "indicates there should be some orders with large goods quantity\n",
    "on that day.\n",
    "After browsing the sales data, a customer from the UK bought 80000+\n",
    "paper craft on 9th, Dec, caused the sales surge. It's better for \n",
    "the e-commerce platform to pay more attention to this high-value\n",
    "customer by taking actions like setting fixed customer service \n",
    "staff to this client.\n",
    "'''"
   ]
  },
  {
   "cell_type": "code",
   "execution_count": 82,
   "metadata": {},
   "outputs": [
    {
     "data": {
      "text/html": [
       "<div>\n",
       "<style>\n",
       "    .dataframe thead tr:only-child th {\n",
       "        text-align: right;\n",
       "    }\n",
       "\n",
       "    .dataframe thead th {\n",
       "        text-align: left;\n",
       "    }\n",
       "\n",
       "    .dataframe tbody tr th {\n",
       "        vertical-align: top;\n",
       "    }\n",
       "</style>\n",
       "<table border=\"1\" class=\"dataframe\">\n",
       "  <thead>\n",
       "    <tr style=\"text-align: right;\">\n",
       "      <th></th>\n",
       "      <th>SumPrice</th>\n",
       "      <th>CustomerID</th>\n",
       "      <th>AvgAmount</th>\n",
       "    </tr>\n",
       "    <tr>\n",
       "      <th>Country</th>\n",
       "      <th></th>\n",
       "      <th></th>\n",
       "      <th></th>\n",
       "    </tr>\n",
       "  </thead>\n",
       "  <tbody>\n",
       "    <tr>\n",
       "      <th>United Kingdom</th>\n",
       "      <td>7284989.004</td>\n",
       "      <td>3920</td>\n",
       "      <td>1858.415562</td>\n",
       "    </tr>\n",
       "    <tr>\n",
       "      <th>Netherlands</th>\n",
       "      <td>285446.340</td>\n",
       "      <td>9</td>\n",
       "      <td>31716.260000</td>\n",
       "    </tr>\n",
       "    <tr>\n",
       "      <th>EIRE</th>\n",
       "      <td>265262.460</td>\n",
       "      <td>3</td>\n",
       "      <td>88420.820000</td>\n",
       "    </tr>\n",
       "    <tr>\n",
       "      <th>Germany</th>\n",
       "      <td>228678.400</td>\n",
       "      <td>94</td>\n",
       "      <td>2432.748936</td>\n",
       "    </tr>\n",
       "    <tr>\n",
       "      <th>France</th>\n",
       "      <td>208934.310</td>\n",
       "      <td>87</td>\n",
       "      <td>2401.543793</td>\n",
       "    </tr>\n",
       "    <tr>\n",
       "      <th>Australia</th>\n",
       "      <td>139843.950</td>\n",
       "      <td>9</td>\n",
       "      <td>15538.216667</td>\n",
       "    </tr>\n",
       "    <tr>\n",
       "      <th>Spain</th>\n",
       "      <td>66470.260</td>\n",
       "      <td>30</td>\n",
       "      <td>2215.675333</td>\n",
       "    </tr>\n",
       "    <tr>\n",
       "      <th>Switzerland</th>\n",
       "      <td>57222.850</td>\n",
       "      <td>21</td>\n",
       "      <td>2724.897619</td>\n",
       "    </tr>\n",
       "    <tr>\n",
       "      <th>Belgium</th>\n",
       "      <td>47971.210</td>\n",
       "      <td>25</td>\n",
       "      <td>1918.848400</td>\n",
       "    </tr>\n",
       "    <tr>\n",
       "      <th>Sweden</th>\n",
       "      <td>38367.830</td>\n",
       "      <td>8</td>\n",
       "      <td>4795.978750</td>\n",
       "    </tr>\n",
       "    <tr>\n",
       "      <th>Japan</th>\n",
       "      <td>37416.370</td>\n",
       "      <td>8</td>\n",
       "      <td>4677.046250</td>\n",
       "    </tr>\n",
       "    <tr>\n",
       "      <th>Norway</th>\n",
       "      <td>36165.440</td>\n",
       "      <td>10</td>\n",
       "      <td>3616.544000</td>\n",
       "    </tr>\n",
       "    <tr>\n",
       "      <th>Portugal</th>\n",
       "      <td>33375.840</td>\n",
       "      <td>19</td>\n",
       "      <td>1756.623158</td>\n",
       "    </tr>\n",
       "    <tr>\n",
       "      <th>Finland</th>\n",
       "      <td>22546.080</td>\n",
       "      <td>12</td>\n",
       "      <td>1878.840000</td>\n",
       "    </tr>\n",
       "    <tr>\n",
       "      <th>Singapore</th>\n",
       "      <td>21279.290</td>\n",
       "      <td>1</td>\n",
       "      <td>21279.290000</td>\n",
       "    </tr>\n",
       "    <tr>\n",
       "      <th>Channel Islands</th>\n",
       "      <td>20440.540</td>\n",
       "      <td>9</td>\n",
       "      <td>2271.171111</td>\n",
       "    </tr>\n",
       "    <tr>\n",
       "      <th>Denmark</th>\n",
       "      <td>19774.400</td>\n",
       "      <td>9</td>\n",
       "      <td>2197.155556</td>\n",
       "    </tr>\n",
       "    <tr>\n",
       "      <th>Italy</th>\n",
       "      <td>17483.240</td>\n",
       "      <td>14</td>\n",
       "      <td>1248.802857</td>\n",
       "    </tr>\n",
       "    <tr>\n",
       "      <th>Austria</th>\n",
       "      <td>16775.840</td>\n",
       "      <td>11</td>\n",
       "      <td>1525.076364</td>\n",
       "    </tr>\n",
       "    <tr>\n",
       "      <th>Cyprus</th>\n",
       "      <td>16518.540</td>\n",
       "      <td>8</td>\n",
       "      <td>2064.817500</td>\n",
       "    </tr>\n",
       "    <tr>\n",
       "      <th>Poland</th>\n",
       "      <td>7334.650</td>\n",
       "      <td>6</td>\n",
       "      <td>1222.441667</td>\n",
       "    </tr>\n",
       "    <tr>\n",
       "      <th>Israel</th>\n",
       "      <td>7215.840</td>\n",
       "      <td>3</td>\n",
       "      <td>2405.280000</td>\n",
       "    </tr>\n",
       "    <tr>\n",
       "      <th>Greece</th>\n",
       "      <td>4760.520</td>\n",
       "      <td>4</td>\n",
       "      <td>1190.130000</td>\n",
       "    </tr>\n",
       "    <tr>\n",
       "      <th>Iceland</th>\n",
       "      <td>4310.000</td>\n",
       "      <td>1</td>\n",
       "      <td>4310.000000</td>\n",
       "    </tr>\n",
       "    <tr>\n",
       "      <th>Canada</th>\n",
       "      <td>3666.380</td>\n",
       "      <td>4</td>\n",
       "      <td>916.595000</td>\n",
       "    </tr>\n",
       "    <tr>\n",
       "      <th>USA</th>\n",
       "      <td>3580.390</td>\n",
       "      <td>4</td>\n",
       "      <td>895.097500</td>\n",
       "    </tr>\n",
       "    <tr>\n",
       "      <th>Malta</th>\n",
       "      <td>2725.590</td>\n",
       "      <td>2</td>\n",
       "      <td>1362.795000</td>\n",
       "    </tr>\n",
       "    <tr>\n",
       "      <th>Unspecified</th>\n",
       "      <td>2660.770</td>\n",
       "      <td>4</td>\n",
       "      <td>665.192500</td>\n",
       "    </tr>\n",
       "    <tr>\n",
       "      <th>United Arab Emirates</th>\n",
       "      <td>1902.280</td>\n",
       "      <td>2</td>\n",
       "      <td>951.140000</td>\n",
       "    </tr>\n",
       "    <tr>\n",
       "      <th>Lebanon</th>\n",
       "      <td>1693.880</td>\n",
       "      <td>1</td>\n",
       "      <td>1693.880000</td>\n",
       "    </tr>\n",
       "    <tr>\n",
       "      <th>Lithuania</th>\n",
       "      <td>1661.060</td>\n",
       "      <td>1</td>\n",
       "      <td>1661.060000</td>\n",
       "    </tr>\n",
       "    <tr>\n",
       "      <th>European Community</th>\n",
       "      <td>1300.250</td>\n",
       "      <td>1</td>\n",
       "      <td>1300.250000</td>\n",
       "    </tr>\n",
       "    <tr>\n",
       "      <th>Brazil</th>\n",
       "      <td>1143.600</td>\n",
       "      <td>1</td>\n",
       "      <td>1143.600000</td>\n",
       "    </tr>\n",
       "    <tr>\n",
       "      <th>RSA</th>\n",
       "      <td>1002.310</td>\n",
       "      <td>1</td>\n",
       "      <td>1002.310000</td>\n",
       "    </tr>\n",
       "    <tr>\n",
       "      <th>Czech Republic</th>\n",
       "      <td>826.740</td>\n",
       "      <td>1</td>\n",
       "      <td>826.740000</td>\n",
       "    </tr>\n",
       "    <tr>\n",
       "      <th>Bahrain</th>\n",
       "      <td>548.400</td>\n",
       "      <td>2</td>\n",
       "      <td>274.200000</td>\n",
       "    </tr>\n",
       "    <tr>\n",
       "      <th>Saudi Arabia</th>\n",
       "      <td>145.920</td>\n",
       "      <td>1</td>\n",
       "      <td>145.920000</td>\n",
       "    </tr>\n",
       "  </tbody>\n",
       "</table>\n",
       "</div>"
      ],
      "text/plain": [
       "                         SumPrice  CustomerID     AvgAmount\n",
       "Country                                                    \n",
       "United Kingdom        7284989.004        3920   1858.415562\n",
       "Netherlands            285446.340           9  31716.260000\n",
       "EIRE                   265262.460           3  88420.820000\n",
       "Germany                228678.400          94   2432.748936\n",
       "France                 208934.310          87   2401.543793\n",
       "Australia              139843.950           9  15538.216667\n",
       "Spain                   66470.260          30   2215.675333\n",
       "Switzerland             57222.850          21   2724.897619\n",
       "Belgium                 47971.210          25   1918.848400\n",
       "Sweden                  38367.830           8   4795.978750\n",
       "Japan                   37416.370           8   4677.046250\n",
       "Norway                  36165.440          10   3616.544000\n",
       "Portugal                33375.840          19   1756.623158\n",
       "Finland                 22546.080          12   1878.840000\n",
       "Singapore               21279.290           1  21279.290000\n",
       "Channel Islands         20440.540           9   2271.171111\n",
       "Denmark                 19774.400           9   2197.155556\n",
       "Italy                   17483.240          14   1248.802857\n",
       "Austria                 16775.840          11   1525.076364\n",
       "Cyprus                  16518.540           8   2064.817500\n",
       "Poland                   7334.650           6   1222.441667\n",
       "Israel                   7215.840           3   2405.280000\n",
       "Greece                   4760.520           4   1190.130000\n",
       "Iceland                  4310.000           1   4310.000000\n",
       "Canada                   3666.380           4    916.595000\n",
       "USA                      3580.390           4    895.097500\n",
       "Malta                    2725.590           2   1362.795000\n",
       "Unspecified              2660.770           4    665.192500\n",
       "United Arab Emirates     1902.280           2    951.140000\n",
       "Lebanon                  1693.880           1   1693.880000\n",
       "Lithuania                1661.060           1   1661.060000\n",
       "European Community       1300.250           1   1300.250000\n",
       "Brazil                   1143.600           1   1143.600000\n",
       "RSA                      1002.310           1   1002.310000\n",
       "Czech Republic            826.740           1    826.740000\n",
       "Bahrain                   548.400           2    274.200000\n",
       "Saudi Arabia              145.920           1    145.920000"
      ]
     },
     "execution_count": 82,
     "metadata": {},
     "output_type": "execute_result"
    }
   ],
   "source": [
    "#from the perspective of zones:\n",
    "\n",
    "#To find the congruent relationship between Customer and Country\n",
    "sales_country=sales_customer[['CustomerID','Country']].drop_duplicates(subset=['CustomerID','Country'])\n",
    "#calcuate sum price on the basis of customer ID\n",
    "country_grouped = sales_customer.groupby('CustomerID')[['SumPrice']].sum().reset_index()\n",
    "#use square brackets to make it a dataframe\n",
    "#merge 2 tables\n",
    "country_grouped = country_grouped.merge(sales_country, on='CustomerID')\n",
    "country_grouped=country_grouped.groupby('Country').agg({'SumPrice':np.sum,'CustomerID':np.size})\n",
    "#build a new field to calculate average amount\n",
    "country_grouped['AvgAmount']=country_grouped['SumPrice']/country_grouped['CustomerID']\n",
    "country_grouped.sort_values(by='SumPrice',ascending=False)\n",
    "#country_grouped.plot.bar()\n",
    "#plt.show()"
   ]
  },
  {
   "cell_type": "code",
   "execution_count": 83,
   "metadata": {},
   "outputs": [
    {
     "data": {
      "text/plain": [
       "'\\nIt can be seen that most of the customers are still from the \\nUK, and the main source of overseas income is mostly from the\\nneighboring countries of the United Kingdom. This phenomenon \\nmay be related to logistic costs and language factors, or it \\nmay because the influence of this e-commerce platform is \\nattenuated gradually by distance. \\nWe can try to increase the overseas popularity by launching \\nmore advertisements. At the same time, add more language choices \\nfor the website. And also, provide more clear and convenient \\nsolutions for decreasing the overseas logistics costs and \\noptimizing logistic procedures.\\n'"
      ]
     },
     "execution_count": 83,
     "metadata": {},
     "output_type": "execute_result"
    }
   ],
   "source": [
    "'''\n",
    "It seems that most of the customers were still from the \n",
    "The UK and the primary source of overseas income was mostly \n",
    "from the neighboring countries of the United Kingdom. This \n",
    "phenomenon might relate to logistic costs and language factors, \n",
    "or it might because the influence of this e-commerce platform \n",
    "was attenuated gradually by distance. \n",
    "We can try to increase the overseas popularity by launching \n",
    "more advertisements. At the same time, add more language choices \n",
    "for the website. And also, provide more transparent and convenient \n",
    "solutions for decreasing the overseas logistics costs and \n",
    "optimizing logistic procedures.\n",
    "'''"
   ]
  },
  {
   "cell_type": "code",
   "execution_count": 85,
   "metadata": {
    "collapsed": true
   },
   "outputs": [],
   "source": [
    "#Analysis of customer behaviors:\n",
    "\n",
    "#Customer life circle\n",
    "# the earlist purchase time\n",
    "mindate = sales_customer.groupby('CustomerID')[['Date']].min()\n",
    "# the last purchase time间\n",
    "maxdate = sales_customer.groupby('CustomerID')[['Date']].max()"
   ]
  },
  {
   "cell_type": "code",
   "execution_count": 86,
   "metadata": {},
   "outputs": [
    {
     "data": {
      "text/plain": [
       "2010-12-01    95\n",
       "2010-12-02    93\n",
       "2010-12-08    83\n",
       "2010-12-06    70\n",
       "2010-12-05    69\n",
       "2010-12-09    67\n",
       "2010-12-16    58\n",
       "2010-12-07    50\n",
       "2010-12-03    46\n",
       "2010-12-15    42\n",
       "Name: Date, dtype: int64"
      ]
     },
     "execution_count": 86,
     "metadata": {},
     "output_type": "execute_result"
    }
   ],
   "source": [
    "mindate.Date.value_counts().head(10)"
   ]
  },
  {
   "cell_type": "code",
   "execution_count": 87,
   "metadata": {},
   "outputs": [
    {
     "data": {
      "text/plain": [
       "2011-12-08    103\n",
       "2011-12-06     94\n",
       "2011-12-05     94\n",
       "2011-12-07     90\n",
       "2011-12-01     79\n",
       "2011-11-29     77\n",
       "2011-11-22     74\n",
       "2011-12-02     72\n",
       "2011-11-30     71\n",
       "2011-11-17     64\n",
       "Name: Date, dtype: int64"
      ]
     },
     "execution_count": 87,
     "metadata": {},
     "output_type": "execute_result"
    }
   ],
   "source": [
    "maxdate.Date.value_counts().head(10)"
   ]
  },
  {
   "cell_type": "code",
   "execution_count": 88,
   "metadata": {},
   "outputs": [
    {
     "data": {
      "text/plain": [
       "\"\\nSince we only have data for one-year period, we don't know their\\nbuying actions before/after this period. Real life cycles for\\nsome of them would be longer, and this brings limitations to \\nour analysis.\\nThe high-frequency date of the initial consumption is found to\\noccur at the beginning of the statistical period, and the \\nhigh-frequency date of the last consumption is at the end of \\nthe statistical period. Explain That means the actual life \\ncycle of a large number of users must be longer.\\n\""
      ]
     },
     "execution_count": 88,
     "metadata": {},
     "output_type": "execute_result"
    }
   ],
   "source": [
    "'''\n",
    "Since we only have data for the one-year period, we don't know their\n",
    "buying actions before/after this period. Real-life cycles for\n",
    "some of them would be longer, and this brings limitations to \n",
    "our analysis.\n",
    "The date of initial consumptions occurred frequently at the beginning \n",
    "of the statistical period, and the date of last consumptions occurred \n",
    "mostly at the end of the statistical period. That means the actual \n",
    "life cycle of a large number of users must be longer.\n",
    "'''"
   ]
  },
  {
   "cell_type": "code",
   "execution_count": 89,
   "metadata": {},
   "outputs": [
    {
     "data": {
      "text/html": [
       "<div>\n",
       "<style>\n",
       "    .dataframe thead tr:only-child th {\n",
       "        text-align: right;\n",
       "    }\n",
       "\n",
       "    .dataframe thead th {\n",
       "        text-align: left;\n",
       "    }\n",
       "\n",
       "    .dataframe tbody tr th {\n",
       "        vertical-align: top;\n",
       "    }\n",
       "</style>\n",
       "<table border=\"1\" class=\"dataframe\">\n",
       "  <thead>\n",
       "    <tr style=\"text-align: right;\">\n",
       "      <th></th>\n",
       "      <th>Date</th>\n",
       "    </tr>\n",
       "    <tr>\n",
       "      <th>CustomerID</th>\n",
       "      <th></th>\n",
       "    </tr>\n",
       "  </thead>\n",
       "  <tbody>\n",
       "    <tr>\n",
       "      <th>12346</th>\n",
       "      <td>0 days</td>\n",
       "    </tr>\n",
       "    <tr>\n",
       "      <th>12347</th>\n",
       "      <td>365 days</td>\n",
       "    </tr>\n",
       "    <tr>\n",
       "      <th>12348</th>\n",
       "      <td>283 days</td>\n",
       "    </tr>\n",
       "    <tr>\n",
       "      <th>12349</th>\n",
       "      <td>0 days</td>\n",
       "    </tr>\n",
       "    <tr>\n",
       "      <th>12350</th>\n",
       "      <td>0 days</td>\n",
       "    </tr>\n",
       "    <tr>\n",
       "      <th>12352</th>\n",
       "      <td>260 days</td>\n",
       "    </tr>\n",
       "    <tr>\n",
       "      <th>12353</th>\n",
       "      <td>0 days</td>\n",
       "    </tr>\n",
       "    <tr>\n",
       "      <th>12354</th>\n",
       "      <td>0 days</td>\n",
       "    </tr>\n",
       "    <tr>\n",
       "      <th>12355</th>\n",
       "      <td>0 days</td>\n",
       "    </tr>\n",
       "    <tr>\n",
       "      <th>12356</th>\n",
       "      <td>303 days</td>\n",
       "    </tr>\n",
       "  </tbody>\n",
       "</table>\n",
       "</div>"
      ],
      "text/plain": [
       "               Date\n",
       "CustomerID         \n",
       "12346        0 days\n",
       "12347      365 days\n",
       "12348      283 days\n",
       "12349        0 days\n",
       "12350        0 days\n",
       "12352      260 days\n",
       "12353        0 days\n",
       "12354        0 days\n",
       "12355        0 days\n",
       "12356      303 days"
      ]
     },
     "execution_count": 89,
     "metadata": {},
     "output_type": "execute_result"
    }
   ],
   "source": [
    "#interval time \n",
    "(maxdate-mindate).head(10)"
   ]
  },
  {
   "cell_type": "code",
   "execution_count": 90,
   "metadata": {},
   "outputs": [
    {
     "data": {
      "text/html": [
       "<div>\n",
       "<style>\n",
       "    .dataframe thead tr:only-child th {\n",
       "        text-align: right;\n",
       "    }\n",
       "\n",
       "    .dataframe thead th {\n",
       "        text-align: left;\n",
       "    }\n",
       "\n",
       "    .dataframe tbody tr th {\n",
       "        vertical-align: top;\n",
       "    }\n",
       "</style>\n",
       "<table border=\"1\" class=\"dataframe\">\n",
       "  <thead>\n",
       "    <tr style=\"text-align: right;\">\n",
       "      <th></th>\n",
       "      <th>Date</th>\n",
       "    </tr>\n",
       "  </thead>\n",
       "  <tbody>\n",
       "    <tr>\n",
       "      <th>count</th>\n",
       "      <td>4338</td>\n",
       "    </tr>\n",
       "    <tr>\n",
       "      <th>mean</th>\n",
       "      <td>130 days 18:31:02.240663</td>\n",
       "    </tr>\n",
       "    <tr>\n",
       "      <th>std</th>\n",
       "      <td>132 days 05:03:08.004046</td>\n",
       "    </tr>\n",
       "    <tr>\n",
       "      <th>min</th>\n",
       "      <td>0 days 00:00:00</td>\n",
       "    </tr>\n",
       "    <tr>\n",
       "      <th>25%</th>\n",
       "      <td>0 days 00:00:00</td>\n",
       "    </tr>\n",
       "    <tr>\n",
       "      <th>50%</th>\n",
       "      <td>93 days 00:00:00</td>\n",
       "    </tr>\n",
       "    <tr>\n",
       "      <th>75%</th>\n",
       "      <td>252 days 00:00:00</td>\n",
       "    </tr>\n",
       "    <tr>\n",
       "      <th>max</th>\n",
       "      <td>373 days 00:00:00</td>\n",
       "    </tr>\n",
       "  </tbody>\n",
       "</table>\n",
       "</div>"
      ],
      "text/plain": [
       "                           Date\n",
       "count                      4338\n",
       "mean   130 days 18:31:02.240663\n",
       "std    132 days 05:03:08.004046\n",
       "min             0 days 00:00:00\n",
       "25%             0 days 00:00:00\n",
       "50%            93 days 00:00:00\n",
       "75%           252 days 00:00:00\n",
       "max           373 days 00:00:00"
      ]
     },
     "execution_count": 90,
     "metadata": {},
     "output_type": "execute_result"
    }
   ],
   "source": [
    "life_time=maxdate-mindate\n",
    "life_time.describe()"
   ]
  },
  {
   "cell_type": "code",
   "execution_count": 91,
   "metadata": {},
   "outputs": [
    {
     "data": {
      "text/plain": [
       "'\\nWe have 4338 clients with CustomerID, the average life cycle is\\n130 days, median is 93 days, that means some loyal customer makea\\nthe mean value larger. The minimum and Q1 value are botu 0, indicate\\nmore than 25% clients only consume once. The distribution of life\\ncycle is polarization.\\n'"
      ]
     },
     "execution_count": 91,
     "metadata": {},
     "output_type": "execute_result"
    }
   ],
   "source": [
    "'''\n",
    "We have 4338 clients with CustomerID, the average life cycle is\n",
    "130 days, the median is 93 days, that means some loyal customers make\n",
    "the mean value larger. The minimum and Q1 value are both 0, indicate\n",
    "more than 25% of clients only consumed once. The distribution of life\n",
    "cycle is polarization.\n",
    "'''"
   ]
  },
  {
   "cell_type": "code",
   "execution_count": 92,
   "metadata": {
    "collapsed": true
   },
   "outputs": [],
   "source": [
    "#covert timedelta type to int\n",
    "life_time['life_time']=life_time['Date'].dt.days\n",
    "#np.dtype(life_time['Date'].dt.days)#transfer to int 64"
   ]
  },
  {
   "cell_type": "code",
   "execution_count": 93,
   "metadata": {},
   "outputs": [
    {
     "data": {
      "image/png": "[encoded data removed]",
      "text/plain": [
       "<Figure size 432x288 with 1 Axes>"
      ]
     },
     "metadata": {},
     "output_type": "display_data"
    }
   ],
   "source": [
    "life_time['life_time'].hist(bins = 20, color = 'yellow')\n",
    "plt.title('Life Time Distribution')\n",
    "plt.ylabel('Customer number')\n",
    "plt.xlabel('Life time (days)')\n",
    "plt.show()"
   ]
  },
  {
   "cell_type": "code",
   "execution_count": 94,
   "metadata": {},
   "outputs": [
    {
     "data": {
      "text/plain": [
       "\"\\nMany customer only consumed once and then left, this website need\\n to focus more on the improvement of customer's initial purchase\\n experience. We can build online mark system and do some phone\\n investigation to get feedback. Also, activities aim to attract\\n second purchase should be considered, for instance: offer coupons\\n with time limitation.\\n\""
      ]
     },
     "execution_count": 94,
     "metadata": {},
     "output_type": "execute_result"
    }
   ],
   "source": [
    "'''\n",
    "Many customers only consumed once and then left, this website needs\n",
    "to focus more on the improvement of customer's initial purchase\n",
    "experience. We can build online mark system and do some phone\n",
    "investigations to get feedback. Also, activities aim at attracting\n",
    "second purchase should be considered, for instance: offer coupons\n",
    "with time limitation.\n",
    "'''"
   ]
  },
  {
   "cell_type": "code",
   "execution_count": 95,
   "metadata": {},
   "outputs": [
    {
     "data": {
      "image/png": "[encoded data removed]",
      "text/plain": [
       "<Figure size 864x432 with 1 Axes>"
      ]
     },
     "metadata": {},
     "output_type": "display_data"
    }
   ],
   "source": [
    "life_time[life_time['life_time'] > 0].life_time.hist(bins = 100, figsize = (12, 6), color = 'yellow')\n",
    "plt.title('Life Time Distribution without One-time Deal Hunters')\n",
    "plt.ylabel('Customer number')\n",
    "plt.xlabel('Life time (days)')\n",
    "plt.show()"
   ]
  },
  {
   "cell_type": "code",
   "execution_count": 96,
   "metadata": {},
   "outputs": [
    {
     "data": {
      "text/plain": [
       "'\\nWe filter the customer with life cycle 0 and plot remaining data\\nagain, about 25% clients have a life cycle length between 170~330\\ndays, this group has a high quality life cycle. And customers with \\nlife cycle longer than 330 days can be viewd as having good user \\nstickness, we have a lot located in this period, which is a good sign.\\n'"
      ]
     },
     "execution_count": 96,
     "metadata": {},
     "output_type": "execute_result"
    }
   ],
   "source": [
    "'''\n",
    "We filter the customer with life cycle 0 and plot remaining data\n",
    "again, about 25% of clients had a life cycle length between 170~330\n",
    "days, this group has a high-quality life cycle. And customers with \n",
    "life cycle longer than 330 days can be viewed as having good user \n",
    "stickness, we have a lot locateing in this period, which is a good sign.\n",
    "'''"
   ]
  },
  {
   "cell_type": "code",
   "execution_count": 97,
   "metadata": {},
   "outputs": [
    {
     "data": {
      "text/plain": [
       "(170, 330]    1198\n",
       "(75, 170]      577\n",
       "(0, 75]        517\n",
       "(330, 400]     498\n",
       "Name: life_time, dtype: int64"
      ]
     },
     "execution_count": 97,
     "metadata": {},
     "output_type": "execute_result"
    }
   ],
   "source": [
    "bin=[0,75,170,330,400]\n",
    "pd.cut(life_time[life_time['life_time']>0]['life_time'],bins=bin).value_counts()"
   ]
  },
  {
   "cell_type": "code",
   "execution_count": 98,
   "metadata": {},
   "outputs": [
    {
     "data": {
      "text/plain": [
       "203.32867383512544"
      ]
     },
     "execution_count": 98,
     "metadata": {},
     "output_type": "execute_result"
    }
   ],
   "source": [
    "#mean purchase period for customer brought more than once\n",
    "life_time[life_time['life_time'] > 0].life_time.mean()"
   ]
  },
  {
   "cell_type": "code",
   "execution_count": 99,
   "metadata": {},
   "outputs": [
    {
     "data": {
      "text/plain": [
       "'\\nThe average lifecycle for customer with more than twice purchase\\nis 203,far higher than the total mean life cycle length 103. \\nThis company should put more effort in maintaining new customers.\\n'"
      ]
     },
     "execution_count": 99,
     "metadata": {},
     "output_type": "execute_result"
    }
   ],
   "source": [
    "'''\n",
    "The average lifecycle for customer with more than twice purchase\n",
    "is 203,far higher than the total mean life cycle length 103. \n",
    "This company should put more effort into maintaining new customers.\n",
    "'''"
   ]
  },
  {
   "cell_type": "code",
   "execution_count": 100,
   "metadata": {},
   "outputs": [
    {
     "data": {
      "text/plain": [
       "'\\nCustomer retention situation is the time difference between the \\nfirst and last purchase, due to the dataset incompleteness we \\nmentioned before, the outcome has limitations here.\\n'"
      ]
     },
     "execution_count": 100,
     "metadata": {},
     "output_type": "execute_result"
    }
   ],
   "source": [
    "'''\n",
    "'Customer life cycle' is the time difference between the \n",
    "first and last purchase. However, 'Customer retention period' \n",
    "focus on customers' periodic behaviors. Due to the dataset incompleteness we \n",
    "mentioned before, the outcome has limitations here as well.\n",
    "'''"
   ]
  },
  {
   "cell_type": "code",
   "execution_count": 101,
   "metadata": {},
   "outputs": [
    {
     "data": {
      "text/html": [
       "<div>\n",
       "<style>\n",
       "    .dataframe thead tr:only-child th {\n",
       "        text-align: right;\n",
       "    }\n",
       "\n",
       "    .dataframe thead th {\n",
       "        text-align: left;\n",
       "    }\n",
       "\n",
       "    .dataframe tbody tr th {\n",
       "        vertical-align: top;\n",
       "    }\n",
       "</style>\n",
       "<table border=\"1\" class=\"dataframe\">\n",
       "  <thead>\n",
       "    <tr style=\"text-align: right;\">\n",
       "      <th></th>\n",
       "      <th>InvoiceNo</th>\n",
       "      <th>StockCode</th>\n",
       "      <th>Description</th>\n",
       "      <th>Quantity</th>\n",
       "      <th>InvoiceTime</th>\n",
       "      <th>UnitPrice</th>\n",
       "      <th>CustomerID</th>\n",
       "      <th>Country</th>\n",
       "      <th>Date</th>\n",
       "      <th>Month</th>\n",
       "      <th>SumPrice</th>\n",
       "      <th>DateMin</th>\n",
       "    </tr>\n",
       "  </thead>\n",
       "  <tbody>\n",
       "    <tr>\n",
       "      <th>0</th>\n",
       "      <td>536365</td>\n",
       "      <td>84406B</td>\n",
       "      <td>CREAM CUPID HEARTS COAT HANGER</td>\n",
       "      <td>8</td>\n",
       "      <td>2010-12-01 08:26:00</td>\n",
       "      <td>2.75</td>\n",
       "      <td>17850</td>\n",
       "      <td>United Kingdom</td>\n",
       "      <td>2010-12-01</td>\n",
       "      <td>12</td>\n",
       "      <td>22.00</td>\n",
       "      <td>2010-12-01</td>\n",
       "    </tr>\n",
       "    <tr>\n",
       "      <th>1</th>\n",
       "      <td>536365</td>\n",
       "      <td>84029G</td>\n",
       "      <td>KNITTED UNION FLAG HOT WATER BOTTLE</td>\n",
       "      <td>6</td>\n",
       "      <td>2010-12-01 08:26:00</td>\n",
       "      <td>3.39</td>\n",
       "      <td>17850</td>\n",
       "      <td>United Kingdom</td>\n",
       "      <td>2010-12-01</td>\n",
       "      <td>12</td>\n",
       "      <td>20.34</td>\n",
       "      <td>2010-12-01</td>\n",
       "    </tr>\n",
       "    <tr>\n",
       "      <th>2</th>\n",
       "      <td>536365</td>\n",
       "      <td>84029E</td>\n",
       "      <td>RED WOOLLY HOTTIE WHITE HEART.</td>\n",
       "      <td>6</td>\n",
       "      <td>2010-12-01 08:26:00</td>\n",
       "      <td>3.39</td>\n",
       "      <td>17850</td>\n",
       "      <td>United Kingdom</td>\n",
       "      <td>2010-12-01</td>\n",
       "      <td>12</td>\n",
       "      <td>20.34</td>\n",
       "      <td>2010-12-01</td>\n",
       "    </tr>\n",
       "    <tr>\n",
       "      <th>3</th>\n",
       "      <td>536365</td>\n",
       "      <td>22752</td>\n",
       "      <td>SET 7 BABUSHKA NESTING BOXES</td>\n",
       "      <td>2</td>\n",
       "      <td>2010-12-01 08:26:00</td>\n",
       "      <td>7.65</td>\n",
       "      <td>17850</td>\n",
       "      <td>United Kingdom</td>\n",
       "      <td>2010-12-01</td>\n",
       "      <td>12</td>\n",
       "      <td>15.30</td>\n",
       "      <td>2010-12-01</td>\n",
       "    </tr>\n",
       "    <tr>\n",
       "      <th>4</th>\n",
       "      <td>536365</td>\n",
       "      <td>21730</td>\n",
       "      <td>GLASS STAR FROSTED T-LIGHT HOLDER</td>\n",
       "      <td>6</td>\n",
       "      <td>2010-12-01 08:26:00</td>\n",
       "      <td>4.25</td>\n",
       "      <td>17850</td>\n",
       "      <td>United Kingdom</td>\n",
       "      <td>2010-12-01</td>\n",
       "      <td>12</td>\n",
       "      <td>25.50</td>\n",
       "      <td>2010-12-01</td>\n",
       "    </tr>\n",
       "  </tbody>\n",
       "</table>\n",
       "</div>"
      ],
      "text/plain": [
       "  InvoiceNo StockCode                          Description  Quantity  \\\n",
       "0    536365    84406B       CREAM CUPID HEARTS COAT HANGER         8   \n",
       "1    536365    84029G  KNITTED UNION FLAG HOT WATER BOTTLE         6   \n",
       "2    536365    84029E       RED WOOLLY HOTTIE WHITE HEART.         6   \n",
       "3    536365     22752         SET 7 BABUSHKA NESTING BOXES         2   \n",
       "4    536365     21730    GLASS STAR FROSTED T-LIGHT HOLDER         6   \n",
       "\n",
       "          InvoiceTime  UnitPrice  CustomerID         Country       Date  \\\n",
       "0 2010-12-01 08:26:00       2.75       17850  United Kingdom 2010-12-01   \n",
       "1 2010-12-01 08:26:00       3.39       17850  United Kingdom 2010-12-01   \n",
       "2 2010-12-01 08:26:00       3.39       17850  United Kingdom 2010-12-01   \n",
       "3 2010-12-01 08:26:00       7.65       17850  United Kingdom 2010-12-01   \n",
       "4 2010-12-01 08:26:00       4.25       17850  United Kingdom 2010-12-01   \n",
       "\n",
       "   Month  SumPrice    DateMin  \n",
       "0     12     22.00 2010-12-01  \n",
       "1     12     20.34 2010-12-01  \n",
       "2     12     20.34 2010-12-01  \n",
       "3     12     15.30 2010-12-01  \n",
       "4     12     25.50 2010-12-01  "
      ]
     },
     "execution_count": 101,
     "metadata": {},
     "output_type": "execute_result"
    }
   ],
   "source": [
    "#Customer retention condition\n",
    "sales_customer.head()\n",
    "mindate_1=mindate.copy().reset_index()\n",
    "customer_retention=sales_customer.merge(mindate_1,on='CustomerID',how='inner',suffixes=('','Min'))\n",
    "customer_retention.head()"
   ]
  },
  {
   "cell_type": "code",
   "execution_count": 102,
   "metadata": {},
   "outputs": [
    {
     "data": {
      "text/html": [
       "<div>\n",
       "<style>\n",
       "    .dataframe thead tr:only-child th {\n",
       "        text-align: right;\n",
       "    }\n",
       "\n",
       "    .dataframe thead th {\n",
       "        text-align: left;\n",
       "    }\n",
       "\n",
       "    .dataframe tbody tr th {\n",
       "        vertical-align: top;\n",
       "    }\n",
       "</style>\n",
       "<table border=\"1\" class=\"dataframe\">\n",
       "  <thead>\n",
       "    <tr style=\"text-align: right;\">\n",
       "      <th></th>\n",
       "      <th>InvoiceNo</th>\n",
       "      <th>StockCode</th>\n",
       "      <th>Description</th>\n",
       "      <th>Quantity</th>\n",
       "      <th>InvoiceTime</th>\n",
       "      <th>UnitPrice</th>\n",
       "      <th>CustomerID</th>\n",
       "      <th>Country</th>\n",
       "      <th>Date</th>\n",
       "      <th>Month</th>\n",
       "      <th>SumPrice</th>\n",
       "      <th>DateMin</th>\n",
       "      <th>DateDiff</th>\n",
       "      <th>DateDiffBin</th>\n",
       "    </tr>\n",
       "  </thead>\n",
       "  <tbody>\n",
       "    <tr>\n",
       "      <th>82</th>\n",
       "      <td>536600</td>\n",
       "      <td>85123A</td>\n",
       "      <td>WHITE HANGING HEART T-LIGHT HOLDER</td>\n",
       "      <td>6</td>\n",
       "      <td>2010-12-02 08:32:00</td>\n",
       "      <td>2.55</td>\n",
       "      <td>17850</td>\n",
       "      <td>United Kingdom</td>\n",
       "      <td>2010-12-02</td>\n",
       "      <td>12</td>\n",
       "      <td>15.30</td>\n",
       "      <td>2010-12-01</td>\n",
       "      <td>1</td>\n",
       "      <td>(0, 3]</td>\n",
       "    </tr>\n",
       "    <tr>\n",
       "      <th>83</th>\n",
       "      <td>536600</td>\n",
       "      <td>71053</td>\n",
       "      <td>WHITE METAL LANTERN</td>\n",
       "      <td>6</td>\n",
       "      <td>2010-12-02 08:32:00</td>\n",
       "      <td>3.39</td>\n",
       "      <td>17850</td>\n",
       "      <td>United Kingdom</td>\n",
       "      <td>2010-12-02</td>\n",
       "      <td>12</td>\n",
       "      <td>20.34</td>\n",
       "      <td>2010-12-01</td>\n",
       "      <td>1</td>\n",
       "      <td>(0, 3]</td>\n",
       "    </tr>\n",
       "    <tr>\n",
       "      <th>84</th>\n",
       "      <td>536600</td>\n",
       "      <td>82483</td>\n",
       "      <td>WOOD 2 DRAWER CABINET WHITE FINISH</td>\n",
       "      <td>4</td>\n",
       "      <td>2010-12-02 08:32:00</td>\n",
       "      <td>4.95</td>\n",
       "      <td>17850</td>\n",
       "      <td>United Kingdom</td>\n",
       "      <td>2010-12-02</td>\n",
       "      <td>12</td>\n",
       "      <td>19.80</td>\n",
       "      <td>2010-12-01</td>\n",
       "      <td>1</td>\n",
       "      <td>(0, 3]</td>\n",
       "    </tr>\n",
       "    <tr>\n",
       "      <th>85</th>\n",
       "      <td>536600</td>\n",
       "      <td>82486</td>\n",
       "      <td>WOOD S/3 CABINET ANT WHITE FINISH</td>\n",
       "      <td>2</td>\n",
       "      <td>2010-12-02 08:32:00</td>\n",
       "      <td>6.95</td>\n",
       "      <td>17850</td>\n",
       "      <td>United Kingdom</td>\n",
       "      <td>2010-12-02</td>\n",
       "      <td>12</td>\n",
       "      <td>13.90</td>\n",
       "      <td>2010-12-01</td>\n",
       "      <td>1</td>\n",
       "      <td>(0, 3]</td>\n",
       "    </tr>\n",
       "    <tr>\n",
       "      <th>86</th>\n",
       "      <td>536600</td>\n",
       "      <td>82482</td>\n",
       "      <td>WOODEN PICTURE FRAME WHITE FINISH</td>\n",
       "      <td>6</td>\n",
       "      <td>2010-12-02 08:32:00</td>\n",
       "      <td>2.10</td>\n",
       "      <td>17850</td>\n",
       "      <td>United Kingdom</td>\n",
       "      <td>2010-12-02</td>\n",
       "      <td>12</td>\n",
       "      <td>12.60</td>\n",
       "      <td>2010-12-01</td>\n",
       "      <td>1</td>\n",
       "      <td>(0, 3]</td>\n",
       "    </tr>\n",
       "  </tbody>\n",
       "</table>\n",
       "</div>"
      ],
      "text/plain": [
       "   InvoiceNo StockCode                         Description  Quantity  \\\n",
       "82    536600    85123A  WHITE HANGING HEART T-LIGHT HOLDER         6   \n",
       "83    536600     71053                 WHITE METAL LANTERN         6   \n",
       "84    536600     82483  WOOD 2 DRAWER CABINET WHITE FINISH         4   \n",
       "85    536600     82486   WOOD S/3 CABINET ANT WHITE FINISH         2   \n",
       "86    536600     82482   WOODEN PICTURE FRAME WHITE FINISH         6   \n",
       "\n",
       "           InvoiceTime  UnitPrice  CustomerID         Country       Date  \\\n",
       "82 2010-12-02 08:32:00       2.55       17850  United Kingdom 2010-12-02   \n",
       "83 2010-12-02 08:32:00       3.39       17850  United Kingdom 2010-12-02   \n",
       "84 2010-12-02 08:32:00       4.95       17850  United Kingdom 2010-12-02   \n",
       "85 2010-12-02 08:32:00       6.95       17850  United Kingdom 2010-12-02   \n",
       "86 2010-12-02 08:32:00       2.10       17850  United Kingdom 2010-12-02   \n",
       "\n",
       "    Month  SumPrice    DateMin  DateDiff DateDiffBin  \n",
       "82     12     15.30 2010-12-01         1      (0, 3]  \n",
       "83     12     20.34 2010-12-01         1      (0, 3]  \n",
       "84     12     19.80 2010-12-01         1      (0, 3]  \n",
       "85     12     13.90 2010-12-01         1      (0, 3]  \n",
       "86     12     12.60 2010-12-01         1      (0, 3]  "
      ]
     },
     "execution_count": 102,
     "metadata": {},
     "output_type": "execute_result"
    }
   ],
   "source": [
    "customer_retention['DateDiff']=(customer_retention.Date-customer_retention.DateMin).dt.days\n",
    "date_bins=[0,3,7,30,60,90,100]\n",
    "customer_retention['DateDiffBin']=pd.cut(customer_retention['DateDiff'],bins=date_bins)\n",
    "customer_retention[customer_retention['DateDiffBin'].isnull().values==False].head()"
   ]
  },
  {
   "cell_type": "code",
   "execution_count": 103,
   "metadata": {},
   "outputs": [
    {
     "data": {
      "text/plain": [
       "(30, 60]     28252\n",
       "(60, 90]     25876\n",
       "(7, 30]      17148\n",
       "(90, 100]     9275\n",
       "(3, 7]        3559\n",
       "(0, 3]        1311\n",
       "Name: DateDiffBin, dtype: int64"
      ]
     },
     "execution_count": 103,
     "metadata": {},
     "output_type": "execute_result"
    }
   ],
   "source": [
    "customer_retention['DateDiffBin'].value_counts()"
   ]
  },
  {
   "cell_type": "code",
   "execution_count": 104,
   "metadata": {},
   "outputs": [
    {
     "data": {
      "text/plain": [
       "\"\\nFor customers with only one consumption, the rentention period\\nis 0, and we don't count them in this part.\\n\""
      ]
     },
     "execution_count": 104,
     "metadata": {},
     "output_type": "execute_result"
    }
   ],
   "source": [
    "'''\n",
    "For customers with only one consumption, the rentention period\n",
    "is 0, and we don't count them in this part.\n",
    "'''"
   ]
  },
  {
   "cell_type": "code",
   "execution_count": 105,
   "metadata": {},
   "outputs": [
    {
     "data": {
      "text/plain": [
       "count                  392690\n",
       "unique                    305\n",
       "top       2010-12-01 00:00:00\n",
       "freq                    35423\n",
       "first     2010-12-01 00:00:00\n",
       "last      2011-12-09 00:00:00\n",
       "Name: DateMin, dtype: object"
      ]
     },
     "execution_count": 105,
     "metadata": {},
     "output_type": "execute_result"
    }
   ],
   "source": [
    "customer_retention.DateMin.describe()"
   ]
  },
  {
   "cell_type": "code",
   "execution_count": 106,
   "metadata": {},
   "outputs": [
    {
     "data": {
      "text/html": [
       "<div>\n",
       "<style>\n",
       "    .dataframe thead tr:only-child th {\n",
       "        text-align: right;\n",
       "    }\n",
       "\n",
       "    .dataframe thead th {\n",
       "        text-align: left;\n",
       "    }\n",
       "\n",
       "    .dataframe tbody tr th {\n",
       "        vertical-align: top;\n",
       "    }\n",
       "</style>\n",
       "<table border=\"1\" class=\"dataframe\">\n",
       "  <thead>\n",
       "    <tr>\n",
       "      <th></th>\n",
       "      <th colspan=\"6\" halign=\"left\">SumPrice</th>\n",
       "    </tr>\n",
       "    <tr>\n",
       "      <th>DateDiffBin</th>\n",
       "      <th>(0, 3]</th>\n",
       "      <th>(3, 7]</th>\n",
       "      <th>(7, 30]</th>\n",
       "      <th>(30, 60]</th>\n",
       "      <th>(60, 90]</th>\n",
       "      <th>(90, 100]</th>\n",
       "    </tr>\n",
       "    <tr>\n",
       "      <th>CustomerID</th>\n",
       "      <th></th>\n",
       "      <th></th>\n",
       "      <th></th>\n",
       "      <th></th>\n",
       "      <th></th>\n",
       "      <th></th>\n",
       "    </tr>\n",
       "  </thead>\n",
       "  <tbody>\n",
       "    <tr>\n",
       "      <th>12346</th>\n",
       "      <td>NaN</td>\n",
       "      <td>NaN</td>\n",
       "      <td>NaN</td>\n",
       "      <td>NaN</td>\n",
       "      <td>NaN</td>\n",
       "      <td>NaN</td>\n",
       "    </tr>\n",
       "    <tr>\n",
       "      <th>12347</th>\n",
       "      <td>NaN</td>\n",
       "      <td>NaN</td>\n",
       "      <td>NaN</td>\n",
       "      <td>475.39</td>\n",
       "      <td>NaN</td>\n",
       "      <td>NaN</td>\n",
       "    </tr>\n",
       "    <tr>\n",
       "      <th>12348</th>\n",
       "      <td>NaN</td>\n",
       "      <td>NaN</td>\n",
       "      <td>NaN</td>\n",
       "      <td>227.44</td>\n",
       "      <td>NaN</td>\n",
       "      <td>NaN</td>\n",
       "    </tr>\n",
       "    <tr>\n",
       "      <th>12349</th>\n",
       "      <td>NaN</td>\n",
       "      <td>NaN</td>\n",
       "      <td>NaN</td>\n",
       "      <td>NaN</td>\n",
       "      <td>NaN</td>\n",
       "      <td>NaN</td>\n",
       "    </tr>\n",
       "    <tr>\n",
       "      <th>12350</th>\n",
       "      <td>NaN</td>\n",
       "      <td>NaN</td>\n",
       "      <td>NaN</td>\n",
       "      <td>NaN</td>\n",
       "      <td>NaN</td>\n",
       "      <td>NaN</td>\n",
       "    </tr>\n",
       "    <tr>\n",
       "      <th>12352</th>\n",
       "      <td>NaN</td>\n",
       "      <td>NaN</td>\n",
       "      <td>1104.98</td>\n",
       "      <td>160.33</td>\n",
       "      <td>NaN</td>\n",
       "      <td>NaN</td>\n",
       "    </tr>\n",
       "    <tr>\n",
       "      <th>12353</th>\n",
       "      <td>NaN</td>\n",
       "      <td>NaN</td>\n",
       "      <td>NaN</td>\n",
       "      <td>NaN</td>\n",
       "      <td>NaN</td>\n",
       "      <td>NaN</td>\n",
       "    </tr>\n",
       "    <tr>\n",
       "      <th>12354</th>\n",
       "      <td>NaN</td>\n",
       "      <td>NaN</td>\n",
       "      <td>NaN</td>\n",
       "      <td>NaN</td>\n",
       "      <td>NaN</td>\n",
       "      <td>NaN</td>\n",
       "    </tr>\n",
       "    <tr>\n",
       "      <th>12355</th>\n",
       "      <td>NaN</td>\n",
       "      <td>NaN</td>\n",
       "      <td>NaN</td>\n",
       "      <td>NaN</td>\n",
       "      <td>NaN</td>\n",
       "      <td>NaN</td>\n",
       "    </tr>\n",
       "    <tr>\n",
       "      <th>12356</th>\n",
       "      <td>NaN</td>\n",
       "      <td>NaN</td>\n",
       "      <td>NaN</td>\n",
       "      <td>NaN</td>\n",
       "      <td>481.46</td>\n",
       "      <td>NaN</td>\n",
       "    </tr>\n",
       "    <tr>\n",
       "      <th>12357</th>\n",
       "      <td>NaN</td>\n",
       "      <td>NaN</td>\n",
       "      <td>NaN</td>\n",
       "      <td>NaN</td>\n",
       "      <td>NaN</td>\n",
       "      <td>NaN</td>\n",
       "    </tr>\n",
       "    <tr>\n",
       "      <th>12358</th>\n",
       "      <td>NaN</td>\n",
       "      <td>NaN</td>\n",
       "      <td>NaN</td>\n",
       "      <td>NaN</td>\n",
       "      <td>NaN</td>\n",
       "      <td>NaN</td>\n",
       "    </tr>\n",
       "    <tr>\n",
       "      <th>12359</th>\n",
       "      <td>NaN</td>\n",
       "      <td>NaN</td>\n",
       "      <td>1838.91</td>\n",
       "      <td>NaN</td>\n",
       "      <td>NaN</td>\n",
       "      <td>NaN</td>\n",
       "    </tr>\n",
       "    <tr>\n",
       "      <th>12360</th>\n",
       "      <td>NaN</td>\n",
       "      <td>NaN</td>\n",
       "      <td>NaN</td>\n",
       "      <td>NaN</td>\n",
       "      <td>534.70</td>\n",
       "      <td>NaN</td>\n",
       "    </tr>\n",
       "    <tr>\n",
       "      <th>12361</th>\n",
       "      <td>NaN</td>\n",
       "      <td>NaN</td>\n",
       "      <td>NaN</td>\n",
       "      <td>NaN</td>\n",
       "      <td>NaN</td>\n",
       "      <td>NaN</td>\n",
       "    </tr>\n",
       "    <tr>\n",
       "      <th>12362</th>\n",
       "      <td>NaN</td>\n",
       "      <td>NaN</td>\n",
       "      <td>NaN</td>\n",
       "      <td>NaN</td>\n",
       "      <td>495.24</td>\n",
       "      <td>NaN</td>\n",
       "    </tr>\n",
       "    <tr>\n",
       "      <th>12363</th>\n",
       "      <td>NaN</td>\n",
       "      <td>NaN</td>\n",
       "      <td>NaN</td>\n",
       "      <td>NaN</td>\n",
       "      <td>NaN</td>\n",
       "      <td>NaN</td>\n",
       "    </tr>\n",
       "    <tr>\n",
       "      <th>12364</th>\n",
       "      <td>NaN</td>\n",
       "      <td>NaN</td>\n",
       "      <td>NaN</td>\n",
       "      <td>79.80</td>\n",
       "      <td>299.06</td>\n",
       "      <td>NaN</td>\n",
       "    </tr>\n",
       "    <tr>\n",
       "      <th>12365</th>\n",
       "      <td>NaN</td>\n",
       "      <td>NaN</td>\n",
       "      <td>NaN</td>\n",
       "      <td>NaN</td>\n",
       "      <td>NaN</td>\n",
       "      <td>NaN</td>\n",
       "    </tr>\n",
       "    <tr>\n",
       "      <th>12367</th>\n",
       "      <td>NaN</td>\n",
       "      <td>NaN</td>\n",
       "      <td>NaN</td>\n",
       "      <td>NaN</td>\n",
       "      <td>NaN</td>\n",
       "      <td>NaN</td>\n",
       "    </tr>\n",
       "    <tr>\n",
       "      <th>12370</th>\n",
       "      <td>277.2</td>\n",
       "      <td>NaN</td>\n",
       "      <td>NaN</td>\n",
       "      <td>NaN</td>\n",
       "      <td>938.39</td>\n",
       "      <td>NaN</td>\n",
       "    </tr>\n",
       "    <tr>\n",
       "      <th>12371</th>\n",
       "      <td>NaN</td>\n",
       "      <td>NaN</td>\n",
       "      <td>360.00</td>\n",
       "      <td>NaN</td>\n",
       "      <td>NaN</td>\n",
       "      <td>NaN</td>\n",
       "    </tr>\n",
       "    <tr>\n",
       "      <th>12372</th>\n",
       "      <td>NaN</td>\n",
       "      <td>NaN</td>\n",
       "      <td>NaN</td>\n",
       "      <td>NaN</td>\n",
       "      <td>515.70</td>\n",
       "      <td>NaN</td>\n",
       "    </tr>\n",
       "    <tr>\n",
       "      <th>12373</th>\n",
       "      <td>NaN</td>\n",
       "      <td>NaN</td>\n",
       "      <td>NaN</td>\n",
       "      <td>NaN</td>\n",
       "      <td>NaN</td>\n",
       "      <td>NaN</td>\n",
       "    </tr>\n",
       "    <tr>\n",
       "      <th>12374</th>\n",
       "      <td>NaN</td>\n",
       "      <td>NaN</td>\n",
       "      <td>NaN</td>\n",
       "      <td>NaN</td>\n",
       "      <td>NaN</td>\n",
       "      <td>NaN</td>\n",
       "    </tr>\n",
       "    <tr>\n",
       "      <th>12375</th>\n",
       "      <td>NaN</td>\n",
       "      <td>NaN</td>\n",
       "      <td>NaN</td>\n",
       "      <td>NaN</td>\n",
       "      <td>227.20</td>\n",
       "      <td>NaN</td>\n",
       "    </tr>\n",
       "    <tr>\n",
       "      <th>12377</th>\n",
       "      <td>NaN</td>\n",
       "      <td>NaN</td>\n",
       "      <td>NaN</td>\n",
       "      <td>626.60</td>\n",
       "      <td>NaN</td>\n",
       "      <td>NaN</td>\n",
       "    </tr>\n",
       "    <tr>\n",
       "      <th>12378</th>\n",
       "      <td>NaN</td>\n",
       "      <td>NaN</td>\n",
       "      <td>NaN</td>\n",
       "      <td>NaN</td>\n",
       "      <td>NaN</td>\n",
       "      <td>NaN</td>\n",
       "    </tr>\n",
       "    <tr>\n",
       "      <th>12379</th>\n",
       "      <td>NaN</td>\n",
       "      <td>NaN</td>\n",
       "      <td>NaN</td>\n",
       "      <td>NaN</td>\n",
       "      <td>392.40</td>\n",
       "      <td>NaN</td>\n",
       "    </tr>\n",
       "    <tr>\n",
       "      <th>12380</th>\n",
       "      <td>NaN</td>\n",
       "      <td>NaN</td>\n",
       "      <td>NaN</td>\n",
       "      <td>NaN</td>\n",
       "      <td>NaN</td>\n",
       "      <td>NaN</td>\n",
       "    </tr>\n",
       "    <tr>\n",
       "      <th>...</th>\n",
       "      <td>...</td>\n",
       "      <td>...</td>\n",
       "      <td>...</td>\n",
       "      <td>...</td>\n",
       "      <td>...</td>\n",
       "      <td>...</td>\n",
       "    </tr>\n",
       "    <tr>\n",
       "      <th>12432</th>\n",
       "      <td>700.0</td>\n",
       "      <td>NaN</td>\n",
       "      <td>NaN</td>\n",
       "      <td>NaN</td>\n",
       "      <td>NaN</td>\n",
       "      <td>NaN</td>\n",
       "    </tr>\n",
       "    <tr>\n",
       "      <th>12433</th>\n",
       "      <td>NaN</td>\n",
       "      <td>1867.98</td>\n",
       "      <td>NaN</td>\n",
       "      <td>NaN</td>\n",
       "      <td>NaN</td>\n",
       "      <td>NaN</td>\n",
       "    </tr>\n",
       "    <tr>\n",
       "      <th>12434</th>\n",
       "      <td>NaN</td>\n",
       "      <td>NaN</td>\n",
       "      <td>NaN</td>\n",
       "      <td>NaN</td>\n",
       "      <td>NaN</td>\n",
       "      <td>NaN</td>\n",
       "    </tr>\n",
       "    <tr>\n",
       "      <th>12435</th>\n",
       "      <td>NaN</td>\n",
       "      <td>NaN</td>\n",
       "      <td>NaN</td>\n",
       "      <td>NaN</td>\n",
       "      <td>NaN</td>\n",
       "      <td>NaN</td>\n",
       "    </tr>\n",
       "    <tr>\n",
       "      <th>12436</th>\n",
       "      <td>NaN</td>\n",
       "      <td>NaN</td>\n",
       "      <td>NaN</td>\n",
       "      <td>NaN</td>\n",
       "      <td>NaN</td>\n",
       "      <td>NaN</td>\n",
       "    </tr>\n",
       "    <tr>\n",
       "      <th>12437</th>\n",
       "      <td>NaN</td>\n",
       "      <td>NaN</td>\n",
       "      <td>150.50</td>\n",
       "      <td>439.76</td>\n",
       "      <td>147.71</td>\n",
       "      <td>NaN</td>\n",
       "    </tr>\n",
       "    <tr>\n",
       "      <th>12438</th>\n",
       "      <td>NaN</td>\n",
       "      <td>NaN</td>\n",
       "      <td>NaN</td>\n",
       "      <td>NaN</td>\n",
       "      <td>NaN</td>\n",
       "      <td>NaN</td>\n",
       "    </tr>\n",
       "    <tr>\n",
       "      <th>12441</th>\n",
       "      <td>NaN</td>\n",
       "      <td>NaN</td>\n",
       "      <td>NaN</td>\n",
       "      <td>NaN</td>\n",
       "      <td>NaN</td>\n",
       "      <td>NaN</td>\n",
       "    </tr>\n",
       "    <tr>\n",
       "      <th>12442</th>\n",
       "      <td>NaN</td>\n",
       "      <td>NaN</td>\n",
       "      <td>NaN</td>\n",
       "      <td>NaN</td>\n",
       "      <td>NaN</td>\n",
       "      <td>NaN</td>\n",
       "    </tr>\n",
       "    <tr>\n",
       "      <th>12444</th>\n",
       "      <td>NaN</td>\n",
       "      <td>NaN</td>\n",
       "      <td>NaN</td>\n",
       "      <td>757.07</td>\n",
       "      <td>562.54</td>\n",
       "      <td>NaN</td>\n",
       "    </tr>\n",
       "    <tr>\n",
       "      <th>12445</th>\n",
       "      <td>NaN</td>\n",
       "      <td>NaN</td>\n",
       "      <td>NaN</td>\n",
       "      <td>NaN</td>\n",
       "      <td>NaN</td>\n",
       "      <td>NaN</td>\n",
       "    </tr>\n",
       "    <tr>\n",
       "      <th>12446</th>\n",
       "      <td>NaN</td>\n",
       "      <td>NaN</td>\n",
       "      <td>NaN</td>\n",
       "      <td>NaN</td>\n",
       "      <td>NaN</td>\n",
       "      <td>NaN</td>\n",
       "    </tr>\n",
       "    <tr>\n",
       "      <th>12447</th>\n",
       "      <td>NaN</td>\n",
       "      <td>NaN</td>\n",
       "      <td>NaN</td>\n",
       "      <td>NaN</td>\n",
       "      <td>NaN</td>\n",
       "      <td>NaN</td>\n",
       "    </tr>\n",
       "    <tr>\n",
       "      <th>12448</th>\n",
       "      <td>NaN</td>\n",
       "      <td>NaN</td>\n",
       "      <td>NaN</td>\n",
       "      <td>NaN</td>\n",
       "      <td>NaN</td>\n",
       "      <td>NaN</td>\n",
       "    </tr>\n",
       "    <tr>\n",
       "      <th>12449</th>\n",
       "      <td>NaN</td>\n",
       "      <td>NaN</td>\n",
       "      <td>NaN</td>\n",
       "      <td>777.95</td>\n",
       "      <td>NaN</td>\n",
       "      <td>1087.7</td>\n",
       "    </tr>\n",
       "    <tr>\n",
       "      <th>12450</th>\n",
       "      <td>NaN</td>\n",
       "      <td>NaN</td>\n",
       "      <td>96.00</td>\n",
       "      <td>NaN</td>\n",
       "      <td>NaN</td>\n",
       "      <td>NaN</td>\n",
       "    </tr>\n",
       "    <tr>\n",
       "      <th>12451</th>\n",
       "      <td>NaN</td>\n",
       "      <td>NaN</td>\n",
       "      <td>NaN</td>\n",
       "      <td>NaN</td>\n",
       "      <td>NaN</td>\n",
       "      <td>NaN</td>\n",
       "    </tr>\n",
       "    <tr>\n",
       "      <th>12452</th>\n",
       "      <td>NaN</td>\n",
       "      <td>NaN</td>\n",
       "      <td>NaN</td>\n",
       "      <td>NaN</td>\n",
       "      <td>NaN</td>\n",
       "      <td>NaN</td>\n",
       "    </tr>\n",
       "    <tr>\n",
       "      <th>12453</th>\n",
       "      <td>NaN</td>\n",
       "      <td>NaN</td>\n",
       "      <td>NaN</td>\n",
       "      <td>NaN</td>\n",
       "      <td>NaN</td>\n",
       "      <td>NaN</td>\n",
       "    </tr>\n",
       "    <tr>\n",
       "      <th>12454</th>\n",
       "      <td>NaN</td>\n",
       "      <td>NaN</td>\n",
       "      <td>NaN</td>\n",
       "      <td>NaN</td>\n",
       "      <td>NaN</td>\n",
       "      <td>NaN</td>\n",
       "    </tr>\n",
       "    <tr>\n",
       "      <th>12455</th>\n",
       "      <td>15.0</td>\n",
       "      <td>NaN</td>\n",
       "      <td>NaN</td>\n",
       "      <td>NaN</td>\n",
       "      <td>NaN</td>\n",
       "      <td>NaN</td>\n",
       "    </tr>\n",
       "    <tr>\n",
       "      <th>12456</th>\n",
       "      <td>NaN</td>\n",
       "      <td>NaN</td>\n",
       "      <td>NaN</td>\n",
       "      <td>NaN</td>\n",
       "      <td>NaN</td>\n",
       "      <td>NaN</td>\n",
       "    </tr>\n",
       "    <tr>\n",
       "      <th>12457</th>\n",
       "      <td>219.0</td>\n",
       "      <td>179.00</td>\n",
       "      <td>NaN</td>\n",
       "      <td>NaN</td>\n",
       "      <td>NaN</td>\n",
       "      <td>NaN</td>\n",
       "    </tr>\n",
       "    <tr>\n",
       "      <th>12458</th>\n",
       "      <td>NaN</td>\n",
       "      <td>NaN</td>\n",
       "      <td>NaN</td>\n",
       "      <td>NaN</td>\n",
       "      <td>NaN</td>\n",
       "      <td>NaN</td>\n",
       "    </tr>\n",
       "    <tr>\n",
       "      <th>12461</th>\n",
       "      <td>NaN</td>\n",
       "      <td>NaN</td>\n",
       "      <td>NaN</td>\n",
       "      <td>200.00</td>\n",
       "      <td>NaN</td>\n",
       "      <td>NaN</td>\n",
       "    </tr>\n",
       "    <tr>\n",
       "      <th>12462</th>\n",
       "      <td>NaN</td>\n",
       "      <td>NaN</td>\n",
       "      <td>NaN</td>\n",
       "      <td>NaN</td>\n",
       "      <td>NaN</td>\n",
       "      <td>NaN</td>\n",
       "    </tr>\n",
       "    <tr>\n",
       "      <th>12463</th>\n",
       "      <td>NaN</td>\n",
       "      <td>NaN</td>\n",
       "      <td>NaN</td>\n",
       "      <td>297.38</td>\n",
       "      <td>337.84</td>\n",
       "      <td>NaN</td>\n",
       "    </tr>\n",
       "    <tr>\n",
       "      <th>12464</th>\n",
       "      <td>NaN</td>\n",
       "      <td>NaN</td>\n",
       "      <td>149.95</td>\n",
       "      <td>NaN</td>\n",
       "      <td>NaN</td>\n",
       "      <td>NaN</td>\n",
       "    </tr>\n",
       "    <tr>\n",
       "      <th>12465</th>\n",
       "      <td>NaN</td>\n",
       "      <td>NaN</td>\n",
       "      <td>NaN</td>\n",
       "      <td>NaN</td>\n",
       "      <td>NaN</td>\n",
       "      <td>NaN</td>\n",
       "    </tr>\n",
       "    <tr>\n",
       "      <th>12468</th>\n",
       "      <td>NaN</td>\n",
       "      <td>NaN</td>\n",
       "      <td>NaN</td>\n",
       "      <td>NaN</td>\n",
       "      <td>NaN</td>\n",
       "      <td>NaN</td>\n",
       "    </tr>\n",
       "  </tbody>\n",
       "</table>\n",
       "<p>100 rows × 6 columns</p>\n",
       "</div>"
      ],
      "text/plain": [
       "            SumPrice                                              \n",
       "DateDiffBin   (0, 3]   (3, 7]  (7, 30] (30, 60] (60, 90] (90, 100]\n",
       "CustomerID                                                        \n",
       "12346            NaN      NaN      NaN      NaN      NaN       NaN\n",
       "12347            NaN      NaN      NaN   475.39      NaN       NaN\n",
       "12348            NaN      NaN      NaN   227.44      NaN       NaN\n",
       "12349            NaN      NaN      NaN      NaN      NaN       NaN\n",
       "12350            NaN      NaN      NaN      NaN      NaN       NaN\n",
       "12352            NaN      NaN  1104.98   160.33      NaN       NaN\n",
       "12353            NaN      NaN      NaN      NaN      NaN       NaN\n",
       "12354            NaN      NaN      NaN      NaN      NaN       NaN\n",
       "12355            NaN      NaN      NaN      NaN      NaN       NaN\n",
       "12356            NaN      NaN      NaN      NaN   481.46       NaN\n",
       "12357            NaN      NaN      NaN      NaN      NaN       NaN\n",
       "12358            NaN      NaN      NaN      NaN      NaN       NaN\n",
       "12359            NaN      NaN  1838.91      NaN      NaN       NaN\n",
       "12360            NaN      NaN      NaN      NaN   534.70       NaN\n",
       "12361            NaN      NaN      NaN      NaN      NaN       NaN\n",
       "12362            NaN      NaN      NaN      NaN   495.24       NaN\n",
       "12363            NaN      NaN      NaN      NaN      NaN       NaN\n",
       "12364            NaN      NaN      NaN    79.80   299.06       NaN\n",
       "12365            NaN      NaN      NaN      NaN      NaN       NaN\n",
       "12367            NaN      NaN      NaN      NaN      NaN       NaN\n",
       "12370          277.2      NaN      NaN      NaN   938.39       NaN\n",
       "12371            NaN      NaN   360.00      NaN      NaN       NaN\n",
       "12372            NaN      NaN      NaN      NaN   515.70       NaN\n",
       "12373            NaN      NaN      NaN      NaN      NaN       NaN\n",
       "12374            NaN      NaN      NaN      NaN      NaN       NaN\n",
       "12375            NaN      NaN      NaN      NaN   227.20       NaN\n",
       "12377            NaN      NaN      NaN   626.60      NaN       NaN\n",
       "12378            NaN      NaN      NaN      NaN      NaN       NaN\n",
       "12379            NaN      NaN      NaN      NaN   392.40       NaN\n",
       "12380            NaN      NaN      NaN      NaN      NaN       NaN\n",
       "...              ...      ...      ...      ...      ...       ...\n",
       "12432          700.0      NaN      NaN      NaN      NaN       NaN\n",
       "12433            NaN  1867.98      NaN      NaN      NaN       NaN\n",
       "12434            NaN      NaN      NaN      NaN      NaN       NaN\n",
       "12435            NaN      NaN      NaN      NaN      NaN       NaN\n",
       "12436            NaN      NaN      NaN      NaN      NaN       NaN\n",
       "12437            NaN      NaN   150.50   439.76   147.71       NaN\n",
       "12438            NaN      NaN      NaN      NaN      NaN       NaN\n",
       "12441            NaN      NaN      NaN      NaN      NaN       NaN\n",
       "12442            NaN      NaN      NaN      NaN      NaN       NaN\n",
       "12444            NaN      NaN      NaN   757.07   562.54       NaN\n",
       "12445            NaN      NaN      NaN      NaN      NaN       NaN\n",
       "12446            NaN      NaN      NaN      NaN      NaN       NaN\n",
       "12447            NaN      NaN      NaN      NaN      NaN       NaN\n",
       "12448            NaN      NaN      NaN      NaN      NaN       NaN\n",
       "12449            NaN      NaN      NaN   777.95      NaN    1087.7\n",
       "12450            NaN      NaN    96.00      NaN      NaN       NaN\n",
       "12451            NaN      NaN      NaN      NaN      NaN       NaN\n",
       "12452            NaN      NaN      NaN      NaN      NaN       NaN\n",
       "12453            NaN      NaN      NaN      NaN      NaN       NaN\n",
       "12454            NaN      NaN      NaN      NaN      NaN       NaN\n",
       "12455           15.0      NaN      NaN      NaN      NaN       NaN\n",
       "12456            NaN      NaN      NaN      NaN      NaN       NaN\n",
       "12457          219.0   179.00      NaN      NaN      NaN       NaN\n",
       "12458            NaN      NaN      NaN      NaN      NaN       NaN\n",
       "12461            NaN      NaN      NaN   200.00      NaN       NaN\n",
       "12462            NaN      NaN      NaN      NaN      NaN       NaN\n",
       "12463            NaN      NaN      NaN   297.38   337.84       NaN\n",
       "12464            NaN      NaN   149.95      NaN      NaN       NaN\n",
       "12465            NaN      NaN      NaN      NaN      NaN       NaN\n",
       "12468            NaN      NaN      NaN      NaN      NaN       NaN\n",
       "\n",
       "[100 rows x 6 columns]"
      ]
     },
     "execution_count": 106,
     "metadata": {},
     "output_type": "execute_result"
    }
   ],
   "source": [
    "#use pivot table to see each customer consumed \n",
    "#how much money in which period \n",
    "retention_pivot = customer_retention.pivot_table(index = ['CustomerID'], columns = ['DateDiffBin'], values = ['SumPrice'], aggfunc= np.sum)\n",
    "retention_pivot.head(100)"
   ]
  },
  {
   "cell_type": "code",
   "execution_count": 107,
   "metadata": {},
   "outputs": [
    {
     "data": {
      "text/plain": [
       "          DateDiffBin\n",
       "SumPrice  (0, 3]         587.662911\n",
       "          (3, 7]         366.199325\n",
       "          (7, 30]        519.275532\n",
       "          (30, 60]       595.992305\n",
       "          (60, 90]       593.322921\n",
       "          (90, 100]      632.466067\n",
       "dtype: float64"
      ]
     },
     "execution_count": 107,
     "metadata": {},
     "output_type": "execute_result"
    }
   ],
   "source": [
    "retention_pivot.mean()"
   ]
  },
  {
   "cell_type": "code",
   "execution_count": 108,
   "metadata": {},
   "outputs": [
    {
     "data": {
      "text/html": [
       "<div>\n",
       "<style>\n",
       "    .dataframe thead tr:only-child th {\n",
       "        text-align: right;\n",
       "    }\n",
       "\n",
       "    .dataframe thead th {\n",
       "        text-align: left;\n",
       "    }\n",
       "\n",
       "    .dataframe tbody tr th {\n",
       "        vertical-align: top;\n",
       "    }\n",
       "</style>\n",
       "<table border=\"1\" class=\"dataframe\">\n",
       "  <thead>\n",
       "    <tr>\n",
       "      <th></th>\n",
       "      <th colspan=\"6\" halign=\"left\">SumPrice</th>\n",
       "    </tr>\n",
       "    <tr>\n",
       "      <th>DateDiffBin</th>\n",
       "      <th>(0, 3]</th>\n",
       "      <th>(3, 7]</th>\n",
       "      <th>(7, 30]</th>\n",
       "      <th>(30, 60]</th>\n",
       "      <th>(60, 90]</th>\n",
       "      <th>(90, 100]</th>\n",
       "    </tr>\n",
       "    <tr>\n",
       "      <th>CustomerID</th>\n",
       "      <th></th>\n",
       "      <th></th>\n",
       "      <th></th>\n",
       "      <th></th>\n",
       "      <th></th>\n",
       "      <th></th>\n",
       "    </tr>\n",
       "  </thead>\n",
       "  <tbody>\n",
       "    <tr>\n",
       "      <th>12346</th>\n",
       "      <td>0</td>\n",
       "      <td>0</td>\n",
       "      <td>0</td>\n",
       "      <td>0</td>\n",
       "      <td>0</td>\n",
       "      <td>0</td>\n",
       "    </tr>\n",
       "    <tr>\n",
       "      <th>12347</th>\n",
       "      <td>0</td>\n",
       "      <td>0</td>\n",
       "      <td>0</td>\n",
       "      <td>1</td>\n",
       "      <td>0</td>\n",
       "      <td>0</td>\n",
       "    </tr>\n",
       "    <tr>\n",
       "      <th>12348</th>\n",
       "      <td>0</td>\n",
       "      <td>0</td>\n",
       "      <td>0</td>\n",
       "      <td>1</td>\n",
       "      <td>0</td>\n",
       "      <td>0</td>\n",
       "    </tr>\n",
       "    <tr>\n",
       "      <th>12349</th>\n",
       "      <td>0</td>\n",
       "      <td>0</td>\n",
       "      <td>0</td>\n",
       "      <td>0</td>\n",
       "      <td>0</td>\n",
       "      <td>0</td>\n",
       "    </tr>\n",
       "    <tr>\n",
       "      <th>12350</th>\n",
       "      <td>0</td>\n",
       "      <td>0</td>\n",
       "      <td>0</td>\n",
       "      <td>0</td>\n",
       "      <td>0</td>\n",
       "      <td>0</td>\n",
       "    </tr>\n",
       "  </tbody>\n",
       "</table>\n",
       "</div>"
      ],
      "text/plain": [
       "            SumPrice                                           \n",
       "DateDiffBin   (0, 3] (3, 7] (7, 30] (30, 60] (60, 90] (90, 100]\n",
       "CustomerID                                                     \n",
       "12346              0      0       0        0        0         0\n",
       "12347              0      0       0        1        0         0\n",
       "12348              0      0       0        1        0         0\n",
       "12349              0      0       0        0        0         0\n",
       "12350              0      0       0        0        0         0"
      ]
     },
     "execution_count": 108,
     "metadata": {},
     "output_type": "execute_result"
    }
   ],
   "source": [
    "#0-1 convert\n",
    "retention_pivot_trans=retention_pivot.fillna(0).applymap(lambda x:1 if x > 0 else 0)\n",
    "retention_pivot_trans.head()"
   ]
  },
  {
   "cell_type": "code",
   "execution_count": 109,
   "metadata": {},
   "outputs": [
    {
     "data": {
      "text/plain": [
       "          DateDiffBin\n",
       "SumPrice  (0, 3]         0.018211\n",
       "          (3, 7]         0.037575\n",
       "          (7, 30]        0.153757\n",
       "          (30, 60]       0.230060\n",
       "          (60, 90]       0.212310\n",
       "          (90, 100]      0.082065\n",
       "dtype: float64"
      ]
     },
     "execution_count": 109,
     "metadata": {},
     "output_type": "execute_result"
    }
   ],
   "source": [
    "retention_pivot_trans.sum()/ retention_pivot_trans.count()"
   ]
  },
  {
   "cell_type": "code",
   "execution_count": 110,
   "metadata": {
    "scrolled": true
   },
   "outputs": [
    {
     "data": {
      "image/png": "[encoded data removed]",
      "text/plain": [
       "<Figure size 432x288 with 1 Axes>"
      ]
     },
     "metadata": {},
     "output_type": "display_data"
    }
   ],
   "source": [
    "(retention_pivot_trans.sum()/ retention_pivot_trans.count()).plot.bar(color = 'pink')\n",
    "plt.show()"
   ]
  },
  {
   "cell_type": "code",
   "execution_count": 111,
   "metadata": {},
   "outputs": [
    {
     "data": {
      "text/plain": [
       "'\\nCustomers came back in\\n0~3 days:3.2%\\n4~7 days:6.6%\\nthe secone month:37.4%\\nthe third month:40.5%\\n90~180 days:67%\\nThe high loyalty customers may not consumption frequently\\nbut user stickness are pretty good.\\n'"
      ]
     },
     "execution_count": 111,
     "metadata": {},
     "output_type": "execute_result"
    }
   ],
   "source": [
    "'''\n",
    "Customers came back in\n",
    "0~3 days:3.2%\n",
    "4~7 days:6.6%\n",
    "the second month:37.4%\n",
    "the third month:40.5%\n",
    "90~180 days:67%\n",
    "The high loyalty customers might not consumption frequently\n",
    "but theirs user stickness were pretty good.\n",
    "'''"
   ]
  },
  {
   "cell_type": "code",
   "execution_count": 112,
   "metadata": {},
   "outputs": [
    {
     "data": {
      "text/plain": [
       "CustomerID        \n",
       "12346       193892     NaN\n",
       "12347       93544      NaN\n",
       "            93575     50.0\n",
       "            93604     71.0\n",
       "            93628     63.0\n",
       "            93646     54.0\n",
       "            93668     90.0\n",
       "            93715     37.0\n",
       "12348       156818     NaN\n",
       "            156835    40.0\n",
       "Name: DateDiff, dtype: float64"
      ]
     },
     "execution_count": 112,
     "metadata": {},
     "output_type": "execute_result"
    }
   ],
   "source": [
    "#Purchase period\n",
    "\n",
    "#We calculate the difference between two adjacent purchase.\n",
    "sales_cycle=customer_retention.drop_duplicates(subset=['CustomerID','Date'],keep='first')\n",
    "sales_cycle.sort_values(by='Date',ascending=True)\n",
    "def diff(group):\n",
    "    d=group.DateDiff-group.DateDiff.shift()\n",
    "    return d\n",
    "last_diff=sales_cycle.groupby('CustomerID').apply(diff)\n",
    "last_diff.head(10)"
   ]
  },
  {
   "cell_type": "code",
   "execution_count": 113,
   "metadata": {},
   "outputs": [
    {
     "data": {
      "text/plain": [
       "count    12425.000000\n",
       "mean        45.656901\n",
       "std         53.067262\n",
       "min          1.000000\n",
       "25%         12.000000\n",
       "50%         28.000000\n",
       "75%         58.000000\n",
       "max        366.000000\n",
       "Name: DateDiff, dtype: float64"
      ]
     },
     "execution_count": 113,
     "metadata": {},
     "output_type": "execute_result"
    }
   ],
   "source": [
    "last_diff.describe()"
   ]
  },
  {
   "cell_type": "code",
   "execution_count": 114,
   "metadata": {
    "scrolled": true
   },
   "outputs": [
    {
     "data": {
      "image/png": "[encoded data removed]",
      "text/plain": [
       "<Figure size 864x432 with 1 Axes>"
      ]
     },
     "metadata": {},
     "output_type": "display_data"
    }
   ],
   "source": [
    "last_diff.hist(bins = 70,figsize = (12, 6), color = 'grey')\n",
    "plt.show()"
   ]
  },
  {
   "cell_type": "code",
   "execution_count": 115,
   "metadata": {},
   "outputs": [
    {
     "data": {
      "text/plain": [
       "'\\nThe purchase period for all orders shows a long-tail distribution\\nmost of the intervals are not long.\\n'"
      ]
     },
     "execution_count": 115,
     "metadata": {},
     "output_type": "execute_result"
    }
   ],
   "source": [
    "'''\n",
    "The purchase period for all orders shows a long-tail distribution\n",
    "most intervals were not long.\n",
    "'''"
   ]
  },
  {
   "cell_type": "code",
   "execution_count": 116,
   "metadata": {},
   "outputs": [
    {
     "data": {
      "image/png": "[encoded data removed]",
      "text/plain": [
       "<Figure size 864x432 with 1 Axes>"
      ]
     },
     "metadata": {},
     "output_type": "display_data"
    }
   ],
   "source": [
    "last_diff_customer = last_diff.groupby('CustomerID').mean()\n",
    "last_diff_customer.mean()\n",
    "last_diff_customer.hist(bins = 70,figsize = (12, 6), color = 'grey')\n",
    "plt.show()"
   ]
  },
  {
   "cell_type": "code",
   "execution_count": 117,
   "metadata": {},
   "outputs": [
    {
     "data": {
      "text/plain": [
       "'\\nGroup the data by CustomerID, it is a possitively skewed\\ndistribution, the peak value is between 15~70 days.The company\\ncan push some promotion information to customers on weekly basis.\\n'"
      ]
     },
     "execution_count": 117,
     "metadata": {},
     "output_type": "execute_result"
    }
   ],
   "source": [
    "'''\n",
    "Group the data by 'CustomerID' again. This is a right-skewed \n",
    "distribution with the peak value around 15~70 days, indicating \n",
    "most customers concentrated there. We suggest this company send \n",
    "pomotion information to customers on a monthly basis.\n",
    "'''"
   ]
  }
 ],
 "metadata": {
  "kernelspec": {
   "display_name": "Python 3",
   "language": "python",
   "name": "python3"
  },
  "language_info": {
   "codemirror_mode": {
    "name": "ipython",
    "version": 3
   },
   "file_extension": ".py",
   "mimetype": "text/x-python",
   "name": "python",
   "nbconvert_exporter": "python",
   "pygments_lexer": "ipython3",
   "version": "3.6.3"
  }
 },
 "nbformat": 4,
 "nbformat_minor": 2
}
